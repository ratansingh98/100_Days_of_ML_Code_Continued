{
 "cells": [
  {
   "cell_type": "markdown",
   "metadata": {},
   "source": [
    "## Understanding Tensorflow\n",
    "\n",
    "In the previous video we saw how to work with a Jupyter notebook. Hopefully you succeeded, and you managed to open a notebook. This is the fourth video, where we are going to use the Jupyter notebook you downloaded to understand **Tensorflow**. \n",
    "\n",
    "In this video we:\n",
    "- go over the definition of Tensorflow\n",
    "- show how simple mathematical operations work in Tensorflow\n",
    "- use placeholders to bring values outside our Tensorflow graph into the graph\n",
    "- are going to chain multiple operations together\n",
    "- are going to inspect our graph\n",
    "\n",
    "### The definition of Tensorflow\n",
    "\n",
    "According to https://www.tensorflow.org/\n",
    "> TensorFlow™ is an open source software library for numerical computation using data flow graphs.\n",
    "\n",
    "As you are following this course you probably don't know what they mean with this. Don't worry, we will figure it out in this section!\n",
    "\n",
    "> Nodes in the graph represent mathematical operations, while the graph edges represent the multidimensional data arrays (tensors) communicated between them. \n",
    "\n",
    "Wow, this is really abstract. Let's not think about this sentence for now. \n",
    "\n",
    "> The flexible architecture allows you to deploy computation to one or more CPUs or GPUs in a desktop, server, or mobile device with a single API.\n",
    "\n",
    "Oeh, that sounds like something we want to use! I personally love deep learning and neural networks, and having them on my computer, a server, and a mobile phone sounds pretty good. \n",
    "\n",
    "Let's dive into the data flow graphs Tensorflow is well known for. Normally in Python everything you type with variables is evaluated immediately. Take a look at this example\n"
   ]
  },
  {
   "cell_type": "code",
   "execution_count": 1,
   "metadata": {},
   "outputs": [
    {
     "name": "stdout",
     "output_type": "stream",
     "text": [
      "3.0\n"
     ]
    }
   ],
   "source": [
    "a = 1.0\n",
    "b = 2.0\n",
    "c = a + b\n",
    "print(c)\n"
   ]
  },
  {
   "cell_type": "markdown",
   "metadata": {},
   "source": [
    "Tensorflow works a little different. You first define the variables and operations in a graph. You then 'compile' and build up this graph, and evaluate it in a session you defined:\n"
   ]
  },
  {
   "cell_type": "code",
   "execution_count": 2,
   "metadata": {},
   "outputs": [
    {
     "name": "stdout",
     "output_type": "stream",
     "text": [
      "Tensor(\"Const:0\", shape=(), dtype=float32)\n",
      "Tensor(\"Const_1:0\", shape=(), dtype=float32)\n",
      "Tensor(\"add:0\", shape=(), dtype=float32)\n",
      "3.0\n"
     ]
    }
   ],
   "source": [
    "import tensorflow as tf\n",
    "# Example from here: https://www.tensorflow.org/api_docs/python/tf/Session\n",
    "# Build a graph.\n",
    "\n",
    "a = tf.constant(1.0)\n",
    "b = tf.constant(2.0)\n",
    "c = a + b\n",
    "print(a)\n",
    "print(b)\n",
    "print(c)\n",
    "\n",
    "# Launch the graph in a session.\n",
    "sess = tf.Session()\n",
    "# Evaluate the tensor `c`.\n",
    "print(sess.run(c))\n"
   ]
  },
  {
   "cell_type": "code",
   "execution_count": 3,
   "metadata": {},
   "outputs": [],
   "source": [
    "sess.run?"
   ]
  },
  {
   "cell_type": "markdown",
   "metadata": {
    "collapsed": true
   },
   "source": [
    "Python is pretty good for mathematical operations, especially if you import the Numpy library: a [package for scientific computing](http://www.numpy.org/). Let's take a look at how you add two random matrices ([arrays with numbers](https://en.wikipedia.org/wiki/Matrix_(mathematics) ))together with numpy: \n"
   ]
  },
  {
   "cell_type": "code",
   "execution_count": 4,
   "metadata": {},
   "outputs": [
    {
     "name": "stdout",
     "output_type": "stream",
     "text": [
      "[[0.43934221 0.44477269 0.84979181]\n",
      " [0.1032418  0.89737602 0.2437746 ]]\n",
      "[[0.32079056 0.3138037  0.96231546]\n",
      " [0.97661665 0.13229603 0.56466345]]\n",
      "[[0.76013277 0.75857639 1.81210727]\n",
      " [1.07985846 1.02967205 0.80843805]]\n"
     ]
    }
   ],
   "source": [
    "import numpy as np\n",
    "matrix_a = np.random.rand(2,3)\n",
    "matrix_b = np.random.rand(2,3)\n",
    "matrix_c = matrix_a + matrix_b\n",
    "print(matrix_a)\n",
    "print(matrix_b)\n",
    "print(matrix_c)"
   ]
  },
  {
   "cell_type": "markdown",
   "metadata": {},
   "source": [
    "In tensorflow you can define these variables as variables in your computation graph. You can select how they are initialised, and the operations you want to do on this graph: \n"
   ]
  },
  {
   "cell_type": "code",
   "execution_count": 5,
   "metadata": {},
   "outputs": [
    {
     "name": "stdout",
     "output_type": "stream",
     "text": [
      "<tf.Variable 'matrix_a:0' shape=(2, 3) dtype=float32_ref>\n",
      "<tf.Variable 'matrix_b:0' shape=(2, 3) dtype=float32_ref>\n",
      "Tensor(\"add_1:0\", shape=(2, 3), dtype=float32)\n",
      "Attempting to use uninitialized value matrix_a\n",
      "\t [[Node: matrix_a/_2 = _Send[T=DT_FLOAT, client_terminated=false, recv_device=\"/job:localhost/replica:0/task:0/device:CPU:0\", send_device=\"/job:localhost/replica:0/task:0/device:GPU:0\", send_device_incarnation=1, tensor_name=\"edge_4_matrix_a\", _device=\"/job:localhost/replica:0/task:0/device:GPU:0\"](matrix_a)]]\n"
     ]
    }
   ],
   "source": [
    "matrix_a = tf.Variable(tf.random_uniform([2,3]), name=\"matrix_a\")\n",
    "matrix_b = tf.Variable(tf.random_uniform([2, 3]), name=\"matrix_b\")\n",
    "matrix_c = matrix_a + matrix_b\n",
    "\n",
    "print(matrix_a)\n",
    "print(matrix_b)\n",
    "print(matrix_c)\n",
    "\n",
    "## WILL THROW EXCEPTION!\n",
    "try:\n",
    "    print(sess.run(matrix_a))\n",
    "    print(sess.run(matrix_b))\n",
    "    print(sess.run(matrix_c))\n",
    "except Exception as e:\n",
    "    print(e)\n"
   ]
  },
  {
   "cell_type": "markdown",
   "metadata": {},
   "source": [
    "Welp: looks like Tensorflow does not like what we are doing. In this case we specified that we wanted to initialise our variables with random values. To do that you have to **initialise** the graph:"
   ]
  },
  {
   "cell_type": "code",
   "execution_count": 6,
   "metadata": {},
   "outputs": [
    {
     "name": "stdout",
     "output_type": "stream",
     "text": [
      "name: \"init\"\n",
      "op: \"NoOp\"\n",
      "input: \"^matrix_a/Assign\"\n",
      "input: \"^matrix_b/Assign\"\n",
      "\n",
      "[[0.32169068 0.37221122 0.5404589 ]\n",
      " [0.99777365 0.2838359  0.3937664 ]]\n",
      "[[0.85896087 0.87097776 0.69600844]\n",
      " [0.22169673 0.9602028  0.5648416 ]]\n",
      "[[1.1806515  1.243189   1.2364674 ]\n",
      " [1.2194704  1.2440387  0.95860803]]\n"
     ]
    }
   ],
   "source": [
    "init = tf.global_variables_initializer() # https://www.tensorflow.org/api_docs/python/tf/global_variables_initializer\n",
    "print(init)\n",
    "# sess = tf.Session() # https://www.tensorflow.org/api_docs/python/tf/Session\n",
    "sess.run(init)\n",
    "print(sess.run(matrix_a))\n",
    "print(sess.run(matrix_b))\n",
    "print(sess.run(matrix_c))"
   ]
  },
  {
   "cell_type": "markdown",
   "metadata": {},
   "source": [
    "Great! It works. The graph that we defined now looks like this: \n",
    "![mat add](illustrations/matadd.png)"
   ]
  },
  {
   "cell_type": "markdown",
   "metadata": {},
   "source": [
    "### Placeholders\n",
    "Now you know how to play with static data we are going to make it a little bit more interesting, and start working with placeholders. \n",
    "\n",
    "Let's say we want to add one to each element in the following matrix: \n",
    "\n",
    "\\begin{matrix}\n",
    "1 & 2 \\\\\n",
    "3 & 4 \\\\\n",
    "5 & 6\n",
    "\\end{matrix}\n",
    "\n",
    "Here is how we do this with numpy: \n"
   ]
  },
  {
   "cell_type": "code",
   "execution_count": 9,
   "metadata": {},
   "outputs": [
    {
     "name": "stdout",
     "output_type": "stream",
     "text": [
      "[[1 2]\n",
      " [3 4]\n",
      " [5 6]]\n",
      "[[ 1.  1.]\n",
      " [ 1.  1.]\n",
      " [ 1.  1.]]\n",
      "[[ 2.  3.]\n",
      " [ 4.  5.]\n",
      " [ 6.  7.]]\n"
     ]
    }
   ],
   "source": [
    "our_matrix = np.array([[1,2],[3,4],[5,6]])\n",
    "to_add_matrix = np.ones([3,2])\n",
    "result_matrix = our_matrix + to_add_matrix\n",
    "print(our_matrix)\n",
    "print(to_add_matrix)\n",
    "print(result_matrix)"
   ]
  },
  {
   "cell_type": "markdown",
   "metadata": {},
   "source": [
    "Now with Tensorflow this would look like this: "
   ]
  },
  {
   "cell_type": "code",
   "execution_count": 10,
   "metadata": {
    "scrolled": false
   },
   "outputs": [
    {
     "name": "stdout",
     "output_type": "stream",
     "text": [
      "Tensor(\"input_placeholder:0\", shape=(3, 2), dtype=int32)\n",
      "Tensor conversion requested dtype int32 for Tensor with dtype float32: 'Tensor(\"ones:0\", shape=(3, 2), dtype=float32)'\n"
     ]
    }
   ],
   "source": [
    "\n",
    "input_shape = [3,2]\n",
    "inputplaceholder = tf.placeholder(dtype=tf.int32, shape=input_shape,\n",
    "                                 name=\"input_placeholder\")\n",
    "print(inputplaceholder)\n",
    "toadd = tf.ones(input_shape) # https://www.tensorflow.org/api_guides/python/constant_op\n",
    "\n",
    "\n",
    "## Will throw error\n",
    "try:\n",
    "    together = inputplaceholder + toadd\n",
    "    print(together)\n",
    "except Exception as e:\n",
    "    print(e)"
   ]
  },
  {
   "cell_type": "markdown",
   "metadata": {},
   "source": [
    "Welp, an error occured. It looks like the `tf.ones` function expects a `dtype` variable. Let's define that both variables contain integers:"
   ]
  },
  {
   "cell_type": "code",
   "execution_count": 11,
   "metadata": {},
   "outputs": [
    {
     "name": "stdout",
     "output_type": "stream",
     "text": [
      "Tensor(\"add_3:0\", shape=(3, 2), dtype=int32)\n",
      "----------\n",
      "[[2 3]\n",
      " [4 5]\n",
      " [6 7]]\n"
     ]
    }
   ],
   "source": [
    "inputplaceholder = tf.placeholder(dtype=tf.int32, \n",
    "                                  shape=input_shape, \n",
    "                                  name=\"input_placeholder\")\n",
    "toadd = tf.ones(input_shape,dtype=tf.int32)\n",
    "together = inputplaceholder + toadd\n",
    "print(together)\n",
    "\n",
    "init = tf.global_variables_initializer() # https://www.tensorflow.org/api_docs/python/tf/global_variables_initializer\n",
    "# sess = tf.Session() # https://www.tensorflow.org/api_docs/python/tf/Session\n",
    "sess.run(init)\n",
    "result = sess.run(together, feed_dict={inputplaceholder: our_matrix})\n",
    "print('-'*10)\n",
    "print(result)"
   ]
  },
  {
   "cell_type": "markdown",
   "metadata": {
    "collapsed": true
   },
   "source": [
    "\n",
    "According to https://github.com/tensorflow/tensorflow/blob/master/tensorflow/python/framework/dtypes.py\n",
    "The following `DType` objects are defined:\n",
    "  * `tf.float16`: 16-bit half-precision floating-point.\n",
    "  * `tf.float32`: 32-bit single-precision floating-point.\n",
    "  * `tf.float64`: 64-bit double-precision floating-point.\n",
    "  * `tf.bfloat16`: 16-bit truncated floating-point.\n",
    "  * `tf.complex64`: 64-bit single-precision complex.\n",
    "  * `tf.complex128`: 128-bit double-precision complex.\n",
    "  * `tf.int8`: 8-bit signed integer.\n",
    "  * `tf.uint8`: 8-bit unsigned integer.\n",
    "  * `tf.uint16`: 16-bit unsigned integer.\n",
    "  * `tf.int16`: 16-bit signed integer.\n",
    "  * `tf.int32`: 32-bit signed integer.\n",
    "  * `tf.int64`: 64-bit signed integer.\n",
    "  * `tf.bool`: Boolean.\n",
    "  * `tf.string`: String.\n",
    "  * `tf.qint8`: Quantized 8-bit signed integer.\n",
    "  * `tf.quint8`: Quantized 8-bit unsigned integer.\n",
    "  * `tf.qint16`: Quantized 16-bit signed integer.\n",
    "  * `tf.quint16`: Quantized 16-bit unsigned integer.\n",
    "  * `tf.qint32`: Quantized 32-bit signed integer.\n",
    "  * `tf.resource`: Handle to a mutable resource.\n",
    "  * `tf.variant`: Values of arbitrary types.\n",
    "\n",
    "Try to keep these datatypes in mind when you are developing your own application!"
   ]
  },
  {
   "cell_type": "markdown",
   "metadata": {},
   "source": [
    "### Chaining operations\n",
    "Right now we only made very simple graphs with only one operation. Let's say we want to make a more interesting graph where we apply several operations. To make the graph more clear I will give the operations a name this time. This looks like this in Tensorflow:\n",
    "\n"
   ]
  },
  {
   "cell_type": "code",
   "execution_count": 12,
   "metadata": {
    "collapsed": true
   },
   "outputs": [],
   "source": [
    "tf.add?"
   ]
  },
  {
   "cell_type": "code",
   "execution_count": 13,
   "metadata": {},
   "outputs": [
    {
     "name": "stdout",
     "output_type": "stream",
     "text": [
      "(3, 2)\n"
     ]
    }
   ],
   "source": [
    "our_matrix = np.array([[1,2],[3,4],[5,6]])\n",
    "print(our_matrix.shape)\n",
    "inputplaceholder = tf.placeholder(dtype=tf.int32, \n",
    "                                  shape=our_matrix.shape, \n",
    "                                  name=\"input_placeholder\")\n",
    "toadd1 = tf.ones(input_shape,dtype=tf.int32, name='first_ones')\n",
    "toadd2 = tf.ones(input_shape,dtype=tf.int32, name='second_ones')\n",
    "\n",
    "together1 = tf.add(inputplaceholder, toadd1, name='first_addition')\n",
    "together2 = tf.add(together1, toadd2, name='second_addition')\n",
    "together3 = tf.add(together2, toadd1, name=\"last_addition\")"
   ]
  },
  {
   "cell_type": "markdown",
   "metadata": {},
   "source": [
    "This gives us the following graph:\n",
    "![bigger graph](illustrations/biggergraph.png)\n",
    "If we take a sessions and evaluate the result of the last operation while we feed a placeholder every operation to achieve this result is executed in the background: \n"
   ]
  },
  {
   "cell_type": "code",
   "execution_count": 14,
   "metadata": {},
   "outputs": [
    {
     "name": "stdout",
     "output_type": "stream",
     "text": [
      "[[4 5]\n",
      " [6 7]\n",
      " [8 9]]\n"
     ]
    }
   ],
   "source": [
    "init = tf.global_variables_initializer() # https://www.tensorflow.org/api_docs/python/tf/global_variables_initializer\n",
    "sess.run(init)\n",
    "\n",
    "result = sess.run(together3, feed_dict={inputplaceholder: our_matrix})\n",
    "print(result)"
   ]
  },
  {
   "cell_type": "markdown",
   "metadata": {},
   "source": [
    "### Knowing what's in your graph\n",
    "Sometimes it can be useful to know what kind of operations are in your graph. You can do this with the following call: \n",
    "`print([op.name for op in tf.get_default_graph().get_operations()])`\n"
   ]
  },
  {
   "cell_type": "code",
   "execution_count": 15,
   "metadata": {},
   "outputs": [
    {
     "name": "stdout",
     "output_type": "stream",
     "text": [
      "['Const', 'Const_1', 'add', 'random_uniform/shape', 'random_uniform/min', 'random_uniform/max', 'random_uniform/RandomUniform', 'random_uniform/sub', 'random_uniform/mul', 'random_uniform', 'matrix_a', 'matrix_a/Assign', 'matrix_a/read', 'random_uniform_1/shape', 'random_uniform_1/min', 'random_uniform_1/max', 'random_uniform_1/RandomUniform', 'random_uniform_1/sub', 'random_uniform_1/mul', 'random_uniform_1', 'matrix_b', 'matrix_b/Assign', 'matrix_b/read', 'add_1', 'init', 'input_placeholder', 'ones', 'input_placeholder_1', 'ones_1', 'add_3', 'init_1', 'input_placeholder_2', 'first_ones', 'second_ones', 'first_addition', 'second_addition', 'last_addition', 'init_2']\n"
     ]
    }
   ],
   "source": [
    "print([op.name for op in tf.get_default_graph().get_operations()])"
   ]
  },
  {
   "cell_type": "markdown",
   "metadata": {},
   "source": [
    "And sometimes you want to remove everything in your graph and start all over again. You can do this with this piece of code: "
   ]
  },
  {
   "cell_type": "code",
   "execution_count": 16,
   "metadata": {
    "collapsed": true
   },
   "outputs": [],
   "source": [
    "tf.reset_default_graph()"
   ]
  },
  {
   "cell_type": "markdown",
   "metadata": {},
   "source": [
    "### Conclusion section 1\n",
    "In this section we talked about the approach we take during this course to learn about neural networks and Tensorflow. We installed Docker and loaded the Jupyter notebook in it. \n",
    "\n",
    "In this video you saw that Tensorflow works a bit different than what you normally expect if you use Python. It takes a bit of time and practice to get used to defining graphs, but during this course we will do it very often, so you will become good at it!\n",
    "\n",
    "In the next section we are going to solve our first dataset: one in which we are going to classify three types of flowers with our first neural network. \n"
   ]
  }
 ],
 "metadata": {
  "kernelspec": {
   "display_name": "Python 3",
   "language": "python",
   "name": "python3"
  },
  "language_info": {
   "codemirror_mode": {
    "name": "ipython",
    "version": 3
   },
   "file_extension": ".py",
   "mimetype": "text/x-python",
   "name": "python",
   "nbconvert_exporter": "python",
   "pygments_lexer": "ipython3",
   "version": "3.6.2"
  }
 },
 "nbformat": 4,
 "nbformat_minor": 2
}
