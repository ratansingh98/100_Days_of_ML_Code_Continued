{
 "cells": [
  {
   "cell_type": "markdown",
   "metadata": {
    "collapsed": true
   },
   "source": [
    "## 1: downloading the data, and visualising it\n",
    "The MNIST database (Modified National Institute of Standards and Technology database) consists of labeled images of written digits. Each image is a grayscale image which is normalized to fit into a 20x20 pixel bounding box, and anti-aliased. The MNIST database is a derivative of the NIST dataset, and contains 60,000 training images and 10,000 testing images\n",
    "\n",
    "The MNIST dataset is used very often in projects, as it is a great practical example to test your network on. New novel network architectures often show how well they perform on the MNIST dataset. Even if your new network architecture does not perform better, it's often easy to show interesting features using the MNIST dataset. As it's used very often, loading the MNIST dataset is included in your installation of Tensorflow. \n",
    "\n",
    "Execute the following code will either load the data, and if it's your first time loading the data it will download the data. \n"
   ]
  },
  {
   "cell_type": "code",
   "execution_count": 1,
   "metadata": {},
   "outputs": [
    {
     "name": "stdout",
     "output_type": "stream",
     "text": [
      "WARNING:tensorflow:From <ipython-input-1-e23a813dfcdb>:3: read_data_sets (from tensorflow.contrib.learn.python.learn.datasets.mnist) is deprecated and will be removed in a future version.\n",
      "Instructions for updating:\n",
      "Please use alternatives such as official/mnist/dataset.py from tensorflow/models.\n",
      "WARNING:tensorflow:From /home/ratan/anaconda3/lib/python3.6/site-packages/tensorflow/contrib/learn/python/learn/datasets/mnist.py:260: maybe_download (from tensorflow.contrib.learn.python.learn.datasets.base) is deprecated and will be removed in a future version.\n",
      "Instructions for updating:\n",
      "Please write your own downloading logic.\n",
      "WARNING:tensorflow:From /home/ratan/anaconda3/lib/python3.6/site-packages/tensorflow/contrib/learn/python/learn/datasets/mnist.py:262: extract_images (from tensorflow.contrib.learn.python.learn.datasets.mnist) is deprecated and will be removed in a future version.\n",
      "Instructions for updating:\n",
      "Please use tf.data to implement this functionality.\n",
      "Extracting datasets/MNIST_data/train-images-idx3-ubyte.gz\n",
      "WARNING:tensorflow:From /home/ratan/anaconda3/lib/python3.6/site-packages/tensorflow/contrib/learn/python/learn/datasets/mnist.py:267: extract_labels (from tensorflow.contrib.learn.python.learn.datasets.mnist) is deprecated and will be removed in a future version.\n",
      "Instructions for updating:\n",
      "Please use tf.data to implement this functionality.\n",
      "Extracting datasets/MNIST_data/train-labels-idx1-ubyte.gz\n",
      "WARNING:tensorflow:From /home/ratan/anaconda3/lib/python3.6/site-packages/tensorflow/contrib/learn/python/learn/datasets/mnist.py:110: dense_to_one_hot (from tensorflow.contrib.learn.python.learn.datasets.mnist) is deprecated and will be removed in a future version.\n",
      "Instructions for updating:\n",
      "Please use tf.one_hot on tensors.\n",
      "Extracting datasets/MNIST_data/t10k-images-idx3-ubyte.gz\n",
      "Extracting datasets/MNIST_data/t10k-labels-idx1-ubyte.gz\n",
      "WARNING:tensorflow:From /home/ratan/anaconda3/lib/python3.6/site-packages/tensorflow/contrib/learn/python/learn/datasets/mnist.py:290: DataSet.__init__ (from tensorflow.contrib.learn.python.learn.datasets.mnist) is deprecated and will be removed in a future version.\n",
      "Instructions for updating:\n",
      "Please use alternatives such as official/mnist/dataset.py from tensorflow/models.\n"
     ]
    }
   ],
   "source": [
    "import tensorflow as tf\n",
    "from tensorflow.examples.tutorials.mnist import input_data\n",
    "mnist = input_data.read_data_sets(\"datasets/MNIST_data/\", one_hot=True)\n"
   ]
  },
  {
   "cell_type": "markdown",
   "metadata": {},
   "source": [
    "### Visualising MNIST\n",
    "Just like the previous sections I think it's important to know how our data is represented. In this case we see that we are dealing with a `Datasets` object, and that we can get a batch of images and labels from this object:"
   ]
  },
  {
   "cell_type": "code",
   "execution_count": 2,
   "metadata": {},
   "outputs": [
    {
     "name": "stdout",
     "output_type": "stream",
     "text": [
      "784\n"
     ]
    }
   ],
   "source": [
    "images, labels = mnist.train.next_batch(5)\n",
    "print(len(images[0]))\n"
   ]
  },
  {
   "cell_type": "markdown",
   "metadata": {},
   "source": [
    "### Plotting the images\n",
    "One important thing to know is that one digit is a long array. In this case we can use NumPy to reshape our data to visualise it with Matplotlib. "
   ]
  },
  {
   "cell_type": "code",
   "execution_count": 3,
   "metadata": {},
   "outputs": [
    {
     "data": {
      "image/png": "[encoded data removed]",
      "text/plain": [
       "<matplotlib.figure.Figure at 0x7f349f172668>"
      ]
     },
     "metadata": {},
     "output_type": "display_data"
    },
    {
     "name": "stdout",
     "output_type": "stream",
     "text": [
      "[0. 0. 0. 0. 0. 1. 0. 0. 0. 0.]\n"
     ]
    },
    {
     "data": {
      "image/png": "[encoded data removed]",
      "text/plain": [
       "<matplotlib.figure.Figure at 0x7f349d4dfcf8>"
      ]
     },
     "metadata": {},
     "output_type": "display_data"
    },
    {
     "name": "stdout",
     "output_type": "stream",
     "text": [
      "[0. 0. 0. 0. 0. 0. 0. 0. 1. 0.]\n"
     ]
    },
    {
     "data": {
      "image/png": "[encoded data removed]",
      "text/plain": [
       "<matplotlib.figure.Figure at 0x7f349bfd8eb8>"
      ]
     },
     "metadata": {},
     "output_type": "display_data"
    },
    {
     "name": "stdout",
     "output_type": "stream",
     "text": [
      "[0. 0. 0. 0. 1. 0. 0. 0. 0. 0.]\n"
     ]
    },
    {
     "data": {
      "image/png": "[encoded data removed]",
      "text/plain": [
       "<matplotlib.figure.Figure at 0x7f349bf04908>"
      ]
     },
     "metadata": {},
     "output_type": "display_data"
    },
    {
     "name": "stdout",
     "output_type": "stream",
     "text": [
      "[0. 1. 0. 0. 0. 0. 0. 0. 0. 0.]\n"
     ]
    },
    {
     "data": {
      "image/png": "[encoded data removed]",
      "text/plain": [
       "<matplotlib.figure.Figure at 0x7f349be8eba8>"
      ]
     },
     "metadata": {},
     "output_type": "display_data"
    },
    {
     "name": "stdout",
     "output_type": "stream",
     "text": [
      "[0. 0. 0. 1. 0. 0. 0. 0. 0. 0.]\n"
     ]
    },
    {
     "data": {
      "image/png": "[encoded data removed]",
      "text/plain": [
       "<matplotlib.figure.Figure at 0x7f349bdad780>"
      ]
     },
     "metadata": {},
     "output_type": "display_data"
    },
    {
     "name": "stdout",
     "output_type": "stream",
     "text": [
      "[0. 0. 0. 1. 0. 0. 0. 0. 0. 0.]\n"
     ]
    },
    {
     "data": {
      "image/png": "[encoded data removed]",
      "text/plain": [
       "<matplotlib.figure.Figure at 0x7f349bf61ef0>"
      ]
     },
     "metadata": {},
     "output_type": "display_data"
    },
    {
     "name": "stdout",
     "output_type": "stream",
     "text": [
      "[0. 0. 1. 0. 0. 0. 0. 0. 0. 0.]\n"
     ]
    },
    {
     "data": {
      "image/png": "[encoded data removed]",
      "text/plain": [
       "<matplotlib.figure.Figure at 0x7f349d843a90>"
      ]
     },
     "metadata": {},
     "output_type": "display_data"
    },
    {
     "name": "stdout",
     "output_type": "stream",
     "text": [
      "[1. 0. 0. 0. 0. 0. 0. 0. 0. 0.]\n"
     ]
    },
    {
     "data": {
      "image/png": "[encoded data removed]",
      "text/plain": [
       "<matplotlib.figure.Figure at 0x7f349be51f28>"
      ]
     },
     "metadata": {},
     "output_type": "display_data"
    },
    {
     "name": "stdout",
     "output_type": "stream",
     "text": [
      "[0. 0. 0. 0. 0. 0. 0. 0. 0. 1.]\n"
     ]
    },
    {
     "data": {
      "image/png": "[encoded data removed]",
      "text/plain": [
       "<matplotlib.figure.Figure at 0x7f349bf16e80>"
      ]
     },
     "metadata": {},
     "output_type": "display_data"
    },
    {
     "name": "stdout",
     "output_type": "stream",
     "text": [
      "[0. 0. 0. 0. 0. 0. 0. 1. 0. 0.]\n"
     ]
    }
   ],
   "source": [
    "%matplotlib inline \n",
    "import matplotlib.pyplot as plt\n",
    "import numpy as np\n",
    "images, labels = mnist.train.next_batch(10)\n",
    "for image, label in zip(images, labels):\n",
    "    image_reshaped = np.reshape(image, (28,28))\n",
    "    \n",
    "    plt.imshow(image_reshaped)\n",
    "    plt.show()\n",
    "    print(label)"
   ]
  },
  {
   "cell_type": "markdown",
   "metadata": {},
   "source": [
    "### Nicer visualisations and difficult data\n",
    "If you want to see all digits in a multi-dimensional space you can take a look at this [blogpost](http://www.pinchofintelligence.com/simple-introduction-to-tensorboard-embedding-visualisation/) I made about using Tensorboard and the MNIST digits. Another interesting link you can try is the [notmnist dataset](http://yaroslavvb.blogspot.nl/2011/09/notmnist-dataset.html) which consists of alphabetical characters in several funky fonts:\n",
    "![not mnist](http://yaroslavvb.com/upload/notMNIST/nmn.png)"
   ]
  },
  {
   "cell_type": "markdown",
   "metadata": {},
   "source": [
    "## Video 2: Dense layer approach\n",
    "In the previous videos we only used dense layers to make predictions. Let's do this again, but this time for image recognition and see what score we get. \n",
    "Note that we keep using the mean squared error as loss function, and the gradient descent optimizer. We will quickly introduce a better function to replace it. "
   ]
  },
  {
   "cell_type": "code",
   "execution_count": 4,
   "metadata": {},
   "outputs": [],
   "source": [
    "LEARNING_RATE = 0.05\n",
    "ACTIVATION_FUNCTION = tf.nn.relu\n",
    "INPUT_UNITS = 28*28\n",
    "OUTPUT_UNITS = 10\n",
    "\n",
    "tf.reset_default_graph()\n",
    "x_placeholder = tf.placeholder(tf.float32, [None, INPUT_UNITS], name=\"x_placeholder\")\n",
    "y_placeholder = tf.placeholder(tf.float32, [None, OUTPUT_UNITS], name=\"y_placeholder\")\n",
    "\n",
    "hiddenlayer = tf.layers.dense(inputs=x_placeholder, units=400, activation=ACTIVATION_FUNCTION, name=\"hidden_layer\")\n",
    "predicted_class = tf.layers.dense(inputs=hiddenlayer, units=OUTPUT_UNITS, activation=ACTIVATION_FUNCTION, name=\"prediction\")\n",
    "\n",
    "loss = tf.losses.mean_squared_error(y_placeholder,predicted_class)\n",
    "optimizer = tf.train.GradientDescentOptimizer(LEARNING_RATE).minimize(loss)"
   ]
  },
  {
   "cell_type": "code",
   "execution_count": 5,
   "metadata": {},
   "outputs": [],
   "source": [
    "init = tf.global_variables_initializer() # https://www.tensorflow.org/api_docs/python/tf/global_variables_initializer\n",
    "sess = tf.InteractiveSession() # https://www.tensorflow.org/api_docs/python/tf/Session\n",
    "sess.run(init)"
   ]
  },
  {
   "cell_type": "code",
   "execution_count": 6,
   "metadata": {},
   "outputs": [],
   "source": [
    "BATCH_SIZE = 128\n",
    "ITERATIONS = 1000\n",
    "losses = list()\n",
    "for _ in range(ITERATIONS):\n",
    "    batch_xs, batch_ys = mnist.train.next_batch(BATCH_SIZE)\n",
    "    opt_res, current_loss = sess.run([optimizer, loss], \n",
    "                                     feed_dict={x_placeholder: batch_xs, \n",
    "                                                y_placeholder: batch_ys})\n",
    "    losses.append(current_loss)\n"
   ]
  },
  {
   "cell_type": "code",
   "execution_count": 7,
   "metadata": {},
   "outputs": [
    {
     "data": {
      "text/plain": [
       "[<matplotlib.lines.Line2D at 0x7f349bbec710>]"
      ]
     },
     "execution_count": 7,
     "metadata": {},
     "output_type": "execute_result"
    },
    {
     "data": {
      "image/png": "[encoded data removed]",
      "text/plain": [
       "<matplotlib.figure.Figure at 0x7f349f176438>"
      ]
     },
     "metadata": {},
     "output_type": "display_data"
    }
   ],
   "source": [
    "plt.plot(losses)"
   ]
  },
  {
   "cell_type": "code",
   "execution_count": 8,
   "metadata": {},
   "outputs": [
    {
     "name": "stdout",
     "output_type": "stream",
     "text": [
      "Accuracy: 0.8629032258064516\n"
     ]
    }
   ],
   "source": [
    "def get_accuracy(dataset, \n",
    "                 inputtensor, \n",
    "                 outputtensor, \n",
    "                 session, \n",
    "                 test_size=1000,\n",
    "                 batch_size=32):\n",
    "    correct_predictions = 0\n",
    "    total_tested = 0\n",
    "    for _ in range(int(test_size/batch_size)):\n",
    "        total_tested += batch_size\n",
    "        \n",
    "        batch_xs, batch_ys = dataset.next_batch(batch_size)\n",
    "        predicted_chars = session.run(outputtensor, \n",
    "                                      feed_dict={inputtensor: batch_xs})\n",
    "        for truechar, predictedchar in zip(batch_ys, predicted_chars):\n",
    "            if np.argmax(truechar) == np.argmax(predictedchar):\n",
    "                correct_predictions += 1\n",
    "    \n",
    "    return correct_predictions/total_tested\n",
    "\n",
    "accuracy = get_accuracy(mnist.test, x_placeholder, predicted_class, sess)\n",
    "print(\"Accuracy: \" + str(accuracy))"
   ]
  },
  {
   "cell_type": "markdown",
   "metadata": {},
   "source": [
    "### Comparing to state of the art\n",
    "Although what we have right now seems pretty good, it's important to take a look at what the state of the art is doing: http://rodrigob.github.io/are_we_there_yet/build/\n",
    "\n",
    "As you can see we should not be happy with our results, and continue learning to improve our network. \n",
    "\n"
   ]
  },
  {
   "cell_type": "markdown",
   "metadata": {},
   "source": [
    "## 3: convolution and max-pooling layers\n",
    "\n",
    "Imagine you are trying to recognize the center image above. You will probably see that this is a six, and the two images next to it are also sixes... For our neural network we made above these are completely different inputs!\n",
    "What you have to know about the human brain is that there are multiple layers of vision. The \"lower\" layers recognise simple features, like lines. Higher layers take these lower features as input and make higher level features out of it. \n",
    "\n",
    "Neural networks can learn this as well! A big reason neural networks are so popular nowadays is the **convolutional layer**. A convolutional layer is a trainable **feature detector**. It activates when it detects a certain pattern. We slide multiple feature detectors over the image and record the result in a new layer. \n",
    "\n",
    "In our next layer we create ** Feature layers ** by **convolving ** a block with ** filters ** over our image. Note that in our neural network we don't define these filters ourselves, the network has to learn them itself. After this **convolution** layer we end up with a new matrix. Instead of the R,G,B dimension we would have in a colour image, we have dimensions that have the activation to a certain filter...\n",
    "\n",
    "What you need to know is that you can represent these weights as a block: one set of weights is `[width, height, in_dimension, out_dimension]`. It is as if you make a small neural network that takes part of your image as input, and gives X features as output. Luckily we don't have to define these weights and computations ourselves. To save time and make easier to read code we will use the `tf.layers.conv2d` function. \n",
    "\n",
    "There are some terms you need to know. If you look at the signature of the `tf.layers.conv2d` function you will see that it takes the following arguments:\n",
    "\n",
    "#### Kernel size\n",
    "The kernel size is the width and height of a single filter. Often a kernel size of 3x3 or 5x5 is chosen for classification problems. The larger the filter the more information it takes in, but it also makes your program slower and it generalises less. \n",
    "\n",
    "Note that you can even take a 1x1 convolution. In that case you are simply doing a dimensionality reduction: you try to train a neural network that can take X features (for example: 64), and represent them in Y features (for example: 32), preferably without losing a lot of information. \n",
    "\n",
    "#### Padding\n",
    "Let's say your kernel is 3x3 and your image is 5x5: there are two ways you can convolve over this image:\n",
    "\n",
    "##### Padding: valid\n",
    "You convolve over the parts that are actually visible to the detector. As output you get a feature map with a smaller width and height (in our example: result would be 4x4), because you can't slide over the edges:\n",
    "\n",
    "##### Padding: same\n",
    "You can also choose to \"pad\" the input with zeroes around the edges. This way you get an activation for the edges, although it's a bit distorted thanks to the padding. The output of your convolution is a feature map with the SAME width and height as your input convolution map. In our example, the width and height of the output would be 4x4. \n",
    "\n",
    "#### Strides\n",
    "You can look at every part of the image by sliding your detector over the image and shifting 1 pixel in the x direction and/or 1 pixel in the y direction. You could also choose to skip pixels, this would still give you an activation at many parts of the image, but results in a smaller output."
   ]
  },
  {
   "cell_type": "markdown",
   "metadata": {},
   "source": [
    "\n",
    "\n",
    "### Pooling\n",
    "The convolution layer provides a lot of information. It's also an operation that creates very big data structures. You can reduce the output of your convolutional layers by taking larger strides, but this way you might miss a very important feature (you skip over it). Pooling tries to solve this problem: on many points on the feature map you take combine activations in the neighbourhood.\n",
    "\n",
    "There are two popular pooling methods: max pooling and average pooling. \n",
    "\n",
    "#### Max pooling\n",
    "In max pooling we select the \"pixels\" with the highest activation in every group. Often this grouping is done in a 2x2 grid, and results in one number. This means that your data after a pooling operation is 4x smaller than before!\n",
    "\n",
    "![max pooling](https://upload.wikimedia.org/wikipedia/commons/e/e9/Max_pooling.png)\n",
    "\n",
    "We can use the Tensorflow layers function to perform our max pooling operation. If you look at the [documentation](https://www.tensorflow.org/api_docs/python/tf/layers/max_pooling2d) you see that it requires some arguments you hopefully are familiar with right now:\n",
    "- Pool size: this is the same idea as the kernel size in convolution\n",
    "- Strides: the same as kernel size in convolution.\n",
    "\n",
    "We will use a pool size of (2,2) and a stride of (2,2). This results in the same effect as you see in the image above. \n",
    "\n",
    "#### Average pooling\n",
    "Instead of taxing the maximum value you take the average value of the values you are pooling. We are not using this \n"
   ]
  },
  {
   "cell_type": "markdown",
   "metadata": {},
   "source": [
    "## Put it in code! Convolution and max pooling layers"
   ]
  },
  {
   "cell_type": "code",
   "execution_count": 9,
   "metadata": {},
   "outputs": [],
   "source": [
    "tf.reset_default_graph()\n",
    "\n",
    "x_placeholder = tf.placeholder(tf.float32, shape=[None, 784])\n",
    "y_placeholder = tf.placeholder(tf.float32, shape=[None, 10])"
   ]
  },
  {
   "cell_type": "code",
   "execution_count": 10,
   "metadata": {},
   "outputs": [],
   "source": [
    "x_image = tf.reshape(x_placeholder, [-1, 28, 28, 1])\n",
    "FIRST_LAYER_KERNEL_SIZE = 5\n",
    "SECOND_LAYER_KERNEL_SIZE = 3\n",
    "\n",
    "conv_layer1 = tf.layers.conv2d(x_image,\n",
    "                              32,\n",
    "                              (FIRST_LAYER_KERNEL_SIZE, FIRST_LAYER_KERNEL_SIZE),\n",
    "                              activation=tf.nn.relu,\n",
    "                              padding='same')\n",
    "pool_layer1 = tf.layers.max_pooling2d(conv_layer1,\n",
    "                                     (2,2),\n",
    "                                     (2,2),\n",
    "                                     padding='same')\n",
    "\n",
    "\n",
    "conv_layer2 = tf.layers.conv2d(pool_layer1, \n",
    "                               64, \n",
    "                               (SECOND_LAYER_KERNEL_SIZE,SECOND_LAYER_KERNEL_SIZE), \n",
    "                               activation = tf.nn.relu, \n",
    "                               padding='same')\n",
    "pool_layer2 = tf.layers.max_pooling2d(conv_layer2,\n",
    "                                      (2,2),\n",
    "                                      (2,2),\n",
    "                                      padding='SAME')\n",
    "\n",
    "flattened = tf.contrib.layers.flatten(pool_layer2)\n",
    "hidden_fully_connected_layer = tf.layers.dense(inputs=flattened, units=1024, activation=tf.nn.relu)\n",
    "y_conv = tf.layers.dense(inputs=hidden_fully_connected_layer, units=10, activation=None)"
   ]
  },
  {
   "cell_type": "code",
   "execution_count": 11,
   "metadata": {},
   "outputs": [],
   "source": [
    "loss = tf.losses.mean_squared_error(y_placeholder, y_conv)\n",
    "train_step = tf.train.GradientDescentOptimizer(LEARNING_RATE).minimize(loss)"
   ]
  },
  {
   "cell_type": "code",
   "execution_count": 12,
   "metadata": {},
   "outputs": [
    {
     "name": "stderr",
     "output_type": "stream",
     "text": [
      "/home/ratan/anaconda3/lib/python3.6/site-packages/tensorflow/python/client/session.py:1645: UserWarning: An interactive session is already active. This can cause out-of-memory errors in some cases. You must explicitly call `InteractiveSession.close()` to release resources held by the other session(s).\n",
      "  warnings.warn('An interactive session is already active. This can '\n"
     ]
    },
    {
     "name": "stdout",
     "output_type": "stream",
     "text": [
      "Iteration 0, loss: 0.105385, accuracy: 0.104167\n",
      "Iteration 100, loss: 0.060594, accuracy: 0.750000\n",
      "Iteration 200, loss: 0.052448, accuracy: 0.802083\n",
      "Iteration 300, loss: 0.045455, accuracy: 0.822917\n",
      "Iteration 400, loss: 0.036217, accuracy: 0.864583\n",
      "Iteration 500, loss: 0.035357, accuracy: 0.906250\n",
      "Iteration 600, loss: 0.031005, accuracy: 0.885417\n",
      "Iteration 700, loss: 0.027724, accuracy: 0.968750\n",
      "Iteration 800, loss: 0.027272, accuracy: 0.916667\n",
      "Iteration 900, loss: 0.029304, accuracy: 0.947917\n",
      "Final performance: accuracy: 0.940905\n"
     ]
    },
    {
     "data": {
      "text/plain": [
       "[<matplotlib.lines.Line2D at 0x7f349c4ba6d8>]"
      ]
     },
     "execution_count": 12,
     "metadata": {},
     "output_type": "execute_result"
    },
    {
     "data": {
      "image/png": "[encoded data removed]",
      "text/plain": [
       "<matplotlib.figure.Figure at 0x7f349ba09940>"
      ]
     },
     "metadata": {},
     "output_type": "display_data"
    }
   ],
   "source": [
    "BATCH_SIZE = 64\n",
    "ITERATIONS = 1000\n",
    "sess = tf.InteractiveSession()\n",
    "sess.run(tf.global_variables_initializer())\n",
    "\n",
    "losses = list()\n",
    "for iteration in range(ITERATIONS):\n",
    "    batch = mnist.train.next_batch(BATCH_SIZE)\n",
    "    _, l = sess.run([train_step, loss], feed_dict={x_placeholder: batch[0], y_placeholder: batch[1]})\n",
    "    losses.append(l)\n",
    "    \n",
    "    ## Added: every 100 steps print the accuracy!\n",
    "    if iteration % 100 == 0:\n",
    "        accuracy = get_accuracy(mnist.test, x_placeholder, y_conv, sess, test_size=100)\n",
    "        print(\"Iteration %d, loss: %f, accuracy: %f\" % (iteration, l, accuracy))\n",
    "        \n",
    "accuracy = get_accuracy(mnist.test, x_placeholder, y_conv, sess, test_size=10000)\n",
    "print(\"Final performance: accuracy: %f\" % (accuracy))\n",
    "plt.plot(losses)"
   ]
  },
  {
   "cell_type": "markdown",
   "metadata": {},
   "source": [
    "\n",
    "### Putting convolutional operations in your neural network\n",
    "We now saw how we could improve our performance on the MNIST task with convolutional and pooling layers! \n",
    "\n",
    "Depending on the task you are trying to solve. In classification problems you often:\n",
    "- Take the data as input\n",
    "- Represent it as an image with shape [batch_size, width, height, dimensions]\n",
    "- Do a convolution with activation function\n",
    "- Do a pooling layer\n",
    "- Repeat convolution + pooling layers for as long as you want\n",
    "- Reshape it \n",
    "- Add (some) dense layers\n",
    "\n"
   ]
  },
  {
   "cell_type": "markdown",
   "metadata": {},
   "source": [
    "## 4: from activations to probabilities: the softmax function\n",
    "Note that if we currently get the output of our MNIST detection network we get an activation. Often people on StackOverflow ask how they get a \"certainty\", or \"probability\" estimate for each class. \n",
    "\n",
    "A function that provides a probability distribution over our classes is the [**softmax function**](https://en.wikipedia.org/wiki/Softmax_function). It takes the activations as input, and for each activation it divides $e^{activation}$ by the sum of each $e^{activation}$. It thus looks like this: \n",
    "\n",
    "$softmax(activation_j) = \\frac{e^{activation_j}}{\\sum_i e^{activation_i}}$\n",
    "\n",
    "Adding the softmax function to our graph is easy:\n"
   ]
  },
  {
   "cell_type": "code",
   "execution_count": 13,
   "metadata": {},
   "outputs": [
    {
     "name": "stdout",
     "output_type": "stream",
     "text": [
      "Activation output: [-0.05  0.02  0.13  0.71 -0.    0.08 -0.1  -0.09  0.19  0.05]\n",
      "Softmax output: [0.08 0.09 0.1  0.18 0.09 0.1  0.08 0.08 0.11 0.09]\n"
     ]
    }
   ],
   "source": [
    "np.set_printoptions(precision=2)\n",
    "np.set_printoptions(suppress=True)\n",
    "\n",
    "softmax_output = tf.nn.softmax(y_conv)\n",
    "\n",
    "smoutput, a_output = sess.run([softmax_output, y_conv], feed_dict={x_placeholder: batch[0]})\n",
    "print(\"Activation output: \" + str(a_output[0]))\n",
    "print(\"Softmax output: \" + str(smoutput[0]))"
   ]
  },
  {
   "cell_type": "markdown",
   "metadata": {},
   "source": [
    "### Properties of the Softmax function\n",
    "Some important properties of the softmax function you might want to remember are:\n",
    "- Resulting values sum up to 1\n",
    "- Weighting of input is nonlinear: large inputs get more weight than small inputs!\n",
    "\n",
    "Let's take a look at this last property: "
   ]
  },
  {
   "cell_type": "code",
   "execution_count": 14,
   "metadata": {},
   "outputs": [
    {
     "name": "stdout",
     "output_type": "stream",
     "text": [
      "Softmax: [0.02 0.06 0.17 0.47 0.02 0.06 0.17]\n",
      "Linear: [0.06 0.12 0.19 0.25 0.06 0.12 0.19]\n"
     ]
    }
   ],
   "source": [
    "def softmax(inputs):\n",
    "    e_x = np.exp(inputs - np.max(inputs))\n",
    "    return e_x / e_x.sum()\n",
    "def linear(inputs):\n",
    "    return inputs / inputs.sum()\n",
    "\n",
    "example_activation = np.array([1,2,3,4,1,2,3])\n",
    "\n",
    "print(\"Softmax: \" + str(softmax(example_activation)))\n",
    "print(\"Linear: \" + str(linear(example_activation)))\n",
    "\n"
   ]
  },
  {
   "cell_type": "markdown",
   "metadata": {},
   "source": [
    "## Video 5: optimization and loss functions\n",
    "Right now we used the mean squared error to determine our loss, and the gradient descent optimization function. Let's first discuss some alternatives to the mean squared error loss function:\n",
    "\n",
    "### Loss functions\n",
    "Mean squared error not only gives a penalty for not being certain about the class you want, it also gives a penalty for being \"confused\" about another class. For many classification problems it turns out that it's a good idea to run a softmax over the outputs, and then only give a penalty for the error in the expected class. \n",
    "\n",
    "There are more loss functions in Tensorflow I won't talk about in these videos. This list [can be found here.](https://www.tensorflow.org/api_docs/python/tf/losses) A short article about them can be found on [this site](https://www.tensorflow.org/api_guides/python/contrib.losses)\n",
    "\n",
    "A great article going deeper into why you want to use softmax cross entropy loss for classification problems can be [found here](https://jamesmccaffrey.wordpress.com/2013/11/05/why-you-should-use-cross-entropy-error-instead-of-classification-error-or-mean-squared-error-for-neural-network-classifier-training/). \n",
    "\n",
    "In the future, remember that if you are dealing with a classification problem it's a good idea to use the cross entropy error (note: perhaps you can revisit the iris dataset in section 2!). "
   ]
  },
  {
   "cell_type": "markdown",
   "metadata": {},
   "source": [
    "### Optimization functions\n",
    "Just like picking a better loss function there are some other optimization functions that can be better than the gradient descent function we used in the previous videos. To understand these optimization function we need to look at the representation of our learning landscape again: \n",
    "\n",
    "\n",
    "There are some great articles on optimization algorithms that I can really recommend. This one has a \"what should I use approach: https://medium.com/towards-data-science/types-of-optimization-algorithms-used-in-neural-networks-and-ways-to-optimize-gradient-95ae5d39529f\n",
    "While this article has a more mathematical approach: http://ruder.io/optimizing-gradient-descent/\n",
    "\n",
    "#### Momentum optimization\n",
    "For the momentum optimization function you have to imagine that every optimization step we move in the direction of our loss. If we have a simple function this means we find the minimum of our function (provided our learning rate is good). If there are local minimum we could get stuck here. \n",
    "\n",
    "An optimization function that tries to deal with local minimas is the **momentum function**. Instead of taking the error and moving in that direction you add weigh this with a momentum variable to adjust the direction you were moving in. \n",
    "\n",
    "Compare it to a rolling ball: if it is rolling down with a certain speed and encounters a small hill it can just roll over it. \n",
    "\n",
    "#### ADAM optimisation \n",
    "The ADAM optimization algorithm takes a totally different approach. It uses two important characteristics: \n",
    "- We give a learning rate parameter to each weight, and adjust this weight every update. This improves performance on problems with \"sparse\" gradients, like natural language and computer vision problems.\n",
    "- These parameters are adapted based on the average of recent magnitudes of the gradients for that weight. This is good for \"noisy\" data. \n",
    "\n",
    "#### Choosing your optimizer\n",
    "\n",
    "Choosing your optimizer can be a difficult task. Just like choosing the right learning rate can be a big difference (like we saw in section 3), choosing the right optimizer can also give you several percentages increase in performance. In this video we only change the optimizer to the Adam Optimizer, but try out some others!"
   ]
  },
  {
   "cell_type": "code",
   "execution_count": 15,
   "metadata": {},
   "outputs": [],
   "source": [
    "tf.nn.softmax_cross_entropy_with_logits?"
   ]
  },
  {
   "cell_type": "code",
   "execution_count": 16,
   "metadata": {},
   "outputs": [
    {
     "name": "stdout",
     "output_type": "stream",
     "text": [
      "WARNING:tensorflow:From <ipython-input-16-cd239220f30b>:2: softmax_cross_entropy_with_logits (from tensorflow.python.ops.nn_ops) is deprecated and will be removed in a future version.\n",
      "Instructions for updating:\n",
      "\n",
      "Future major versions of TensorFlow will allow gradients to flow\n",
      "into the labels input on backprop by default.\n",
      "\n",
      "See @{tf.nn.softmax_cross_entropy_with_logits_v2}.\n",
      "\n"
     ]
    }
   ],
   "source": [
    "cross_entropy = tf.nn.softmax_cross_entropy_with_logits(labels=y_placeholder,\n",
    "                                                       logits=y_conv)\n",
    "loss = tf.reduce_sum(cross_entropy)\n",
    "train_step_cross_entropy = tf.train.AdamOptimizer().minimize(loss)\n"
   ]
  },
  {
   "cell_type": "code",
   "execution_count": 17,
   "metadata": {},
   "outputs": [
    {
     "name": "stdout",
     "output_type": "stream",
     "text": [
      "Iteration 0, loss: 148.952499, accuracy: 0.385417\n",
      "Iteration 100, loss: 4.180444, accuracy: 0.968750\n",
      "Iteration 200, loss: 3.595875, accuracy: 0.979167\n",
      "Iteration 300, loss: 5.077765, accuracy: 0.989583\n",
      "Iteration 400, loss: 10.635486, accuracy: 0.968750\n",
      "Iteration 500, loss: 3.233448, accuracy: 0.979167\n",
      "Iteration 600, loss: 0.396098, accuracy: 0.968750\n",
      "Iteration 700, loss: 1.261106, accuracy: 1.000000\n",
      "Iteration 800, loss: 0.615335, accuracy: 0.989583\n",
      "Iteration 900, loss: 10.512547, accuracy: 0.979167\n",
      "Final performance: accuracy: 0.981470\n"
     ]
    },
    {
     "data": {
      "text/plain": [
       "[<matplotlib.lines.Line2D at 0x7f349d542da0>]"
      ]
     },
     "execution_count": 17,
     "metadata": {},
     "output_type": "execute_result"
    },
    {
     "data": {
      "image/png": "[encoded data removed]",
      "text/plain": [
       "<matplotlib.figure.Figure at 0x7f349bdca470>"
      ]
     },
     "metadata": {},
     "output_type": "display_data"
    }
   ],
   "source": [
    "sess.run(tf.global_variables_initializer())\n",
    "\n",
    "losses = list()\n",
    "for iteration in range(ITERATIONS):\n",
    "    batch = mnist.train.next_batch(BATCH_SIZE)\n",
    "    _, l = sess.run([train_step_cross_entropy, loss], \n",
    "                    feed_dict={x_placeholder: batch[0], \n",
    "                               y_placeholder: batch[1]})\n",
    "    losses.append(l)\n",
    "    \n",
    "    ## Added: every 100 steps print the accuracy!\n",
    "    if iteration % 100 == 0:\n",
    "        accuracy = get_accuracy(mnist.test, x_placeholder, y_conv, sess, test_size=100)\n",
    "        print(\"Iteration %d, loss: %f, accuracy: %f\" % (iteration, l, accuracy))\n",
    "        \n",
    "accuracy = get_accuracy(mnist.test, x_placeholder, y_conv, sess, test_size=10000)\n",
    "print(\"Final performance: accuracy: %f\" % (accuracy))\n",
    "plt.plot(losses)"
   ]
  },
  {
   "cell_type": "markdown",
   "metadata": {
    "collapsed": true
   },
   "source": [
    "## Conclusion\n",
    "In this section we took on the challenge of recognising digits. We started with knowledge we already had (a deep neural network with dense layers), but learned that using convolution and pooling layers we got a better result. We also learned that using a different loss function and different optimization algorithm improved our accuracy with a few percent. \n",
    "\n",
    "With this knowledge we are ready for a big and difficult final project: recognize properties in human faces!"
   ]
  }
 ],
 "metadata": {
  "kernelspec": {
   "display_name": "Python 3",
   "language": "python",
   "name": "python3"
  },
  "language_info": {
   "codemirror_mode": {
    "name": "ipython",
    "version": 3
   },
   "file_extension": ".py",
   "mimetype": "text/x-python",
   "name": "python",
   "nbconvert_exporter": "python",
   "pygments_lexer": "ipython3",
   "version": "3.6.2"
  }
 },
 "nbformat": 4,
 "nbformat_minor": 2
}
