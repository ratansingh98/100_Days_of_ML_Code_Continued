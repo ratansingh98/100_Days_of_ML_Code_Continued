{
 "cells": [
  {
   "cell_type": "code",
   "execution_count": 1,
   "metadata": {},
   "outputs": [],
   "source": [
    "# Import necessary libraries\n",
    "import tensorflow as tf\n",
    "import numpy as np\n",
    "import matplotlib.pyplot as plt"
   ]
  },
  {
   "cell_type": "code",
   "execution_count": 2,
   "metadata": {},
   "outputs": [],
   "source": [
    "# neccessary tensorflow fuctions\n",
    "datasets = tf.contrib.keras.datasets\n",
    "layers =  tf.contrib.keras.layers\n",
    "models = tf.contrib.keras.models\n",
    "losses = tf.contrib.keras.losses\n",
    "optimizers = tf.contrib.keras.optimizers \n",
    "metrics = tf.contrib.keras.metrics\n",
    "preprocessing_image = tf.contrib.keras.preprocessing.image\n",
    "utils = tf.contrib.keras.utils\n",
    "callbacks = tf.contrib.keras.callbacks"
   ]
  },
  {
   "cell_type": "code",
   "execution_count": 3,
   "metadata": {},
   "outputs": [],
   "source": [
    "# Load Cifar10 Dataset\n",
    "(x_train, y_train),(x_test, y_test) = datasets.cifar10.load_data()"
   ]
  },
  {
   "cell_type": "code",
   "execution_count": 4,
   "metadata": {},
   "outputs": [],
   "source": [
    "# Image Presprocessing and augmentation\n",
    "train_datagen = preprocessing_image.ImageDataGenerator(\n",
    "    rescale = 1./255,\n",
    "    shear_range = 0.1, \n",
    "    zoom_range = 0.1,\n",
    "    horizontal_flip= True)\n",
    "test_datagen = preprocessing_image.ImageDataGenerator(rescale = 1./255)"
   ]
  },
  {
   "cell_type": "code",
   "execution_count": 5,
   "metadata": {},
   "outputs": [],
   "source": [
    "# One  hot encoding of target vector\n",
    "y_train = utils.to_categorical(y_train, num_classes=10)\n",
    "y_test = utils.to_categorical(y_test, num_classes=10)"
   ]
  },
  {
   "cell_type": "code",
   "execution_count": 6,
   "metadata": {},
   "outputs": [],
   "source": [
    "# Data Generator\n",
    "train_generator = train_datagen.flow(x = x_train, y= y_train, batch_size=32, shuffle= True)\n",
    "\n",
    "test_generator = test_datagen.flow(x= x_test, y= y_test, batch_size= 32, shuffle=True)"
   ]
  },
  {
   "cell_type": "code",
   "execution_count": 7,
   "metadata": {},
   "outputs": [],
   "source": [
    "# Define fire model\n",
    "def fire_module(x, fire_id, squeeze=16, expand=64):\n",
    "    sq1x1 = \"squeeze1x1\"\n",
    "    exp1x1 = \"expand1x1\"\n",
    "    exp3x3 = \"expand3x3\"\n",
    "    relu = \"relu_\"\n",
    "    s_id = 'fire' + str(fire_id) + '/'\n",
    "\n",
    "    # Squeeze layer\n",
    "    x = layers.Convolution2D(squeeze, (1,1), padding='valid', name=s_id + sq1x1)(x)\n",
    "    x = layers.Activation('relu', name=s_id + relu + sq1x1)(x)\n",
    "\n",
    "    # Expand layer 1x1 filters\n",
    "    left = layers.Convolution2D(expand, (1,1), padding='valid', name=s_id + exp1x1)(x)\n",
    "    left = layers.Activation('relu', name=s_id + relu + exp1x1)(left)\n",
    "\n",
    "    # Expand layer 3x3 filters\n",
    "    right = layers.Convolution2D(expand, (3,3), padding='same', name=s_id + exp3x3)(x)\n",
    "    right = layers.Activation('relu', name=s_id + relu + exp3x3)(right)\n",
    "\n",
    "    # concatenate outputs\n",
    "    x = layers.concatenate([left, right], axis=3, name=s_id + 'concat')\n",
    "\n",
    "    \n",
    "    return x"
   ]
  },
  {
   "cell_type": "code",
   "execution_count": 8,
   "metadata": {},
   "outputs": [],
   "source": [
    "# Define Squeeze Net model\n",
    "def SqueezeNet(input_shape=(32,32,3), classes=10):\n",
    "    \n",
    "    img_input = layers.Input(shape=input_shape)\n",
    "    \n",
    "    x = layers.Convolution2D(64, (3, 3), strides=(2, 2), padding='valid', name='conv1')(img_input)\n",
    "    x = layers.Activation('relu', name='relu_conv1')(x)\n",
    "\n",
    "    x = fire_module(x, fire_id=2, squeeze=16, expand=64)\n",
    "    x = fire_module(x, fire_id=3, squeeze=16, expand=64)\n",
    "    x = layers.MaxPooling2D(pool_size=(3, 3), strides=(2, 2), name='pool3')(x)\n",
    "\n",
    "    x = fire_module(x, fire_id=4, squeeze=32, expand=128)\n",
    "    x = fire_module(x, fire_id=5, squeeze=32, expand=128)\n",
    "    x = layers.Dropout(0.5, name='drop9')(x)\n",
    "\n",
    "    x = layers.Convolution2D(classes, (1, 1), padding='valid', name='conv10')(x)\n",
    "    x = layers.Activation('relu', name='relu_conv10')(x)\n",
    "    x = layers.GlobalAveragePooling2D()(x)\n",
    "    out = layers.Activation('softmax', name='loss')(x)\n",
    "\n",
    "    model = models.Model(img_input, out, name='squeezenet')\n",
    "\n",
    "    return model"
   ]
  },
  {
   "cell_type": "code",
   "execution_count": 9,
   "metadata": {},
   "outputs": [
    {
     "name": "stdout",
     "output_type": "stream",
     "text": [
      "__________________________________________________________________________________________________\n",
      "Layer (type)                    Output Shape         Param #     Connected to                     \n",
      "==================================================================================================\n",
      "input_1 (InputLayer)            (None, 32, 32, 3)    0                                            \n",
      "__________________________________________________________________________________________________\n",
      "conv1 (Conv2D)                  (None, 15, 15, 64)   1792        input_1[0][0]                    \n",
      "__________________________________________________________________________________________________\n",
      "relu_conv1 (Activation)         (None, 15, 15, 64)   0           conv1[0][0]                      \n",
      "__________________________________________________________________________________________________\n",
      "fire2/squeeze1x1 (Conv2D)       (None, 15, 15, 16)   1040        relu_conv1[0][0]                 \n",
      "__________________________________________________________________________________________________\n",
      "fire2/relu_squeeze1x1 (Activati (None, 15, 15, 16)   0           fire2/squeeze1x1[0][0]           \n",
      "__________________________________________________________________________________________________\n",
      "fire2/expand1x1 (Conv2D)        (None, 15, 15, 64)   1088        fire2/relu_squeeze1x1[0][0]      \n",
      "__________________________________________________________________________________________________\n",
      "fire2/expand3x3 (Conv2D)        (None, 15, 15, 64)   9280        fire2/relu_squeeze1x1[0][0]      \n",
      "__________________________________________________________________________________________________\n",
      "fire2/relu_expand1x1 (Activatio (None, 15, 15, 64)   0           fire2/expand1x1[0][0]            \n",
      "__________________________________________________________________________________________________\n",
      "fire2/relu_expand3x3 (Activatio (None, 15, 15, 64)   0           fire2/expand3x3[0][0]            \n",
      "__________________________________________________________________________________________________\n",
      "fire2/concat (Concatenate)      (None, 15, 15, 128)  0           fire2/relu_expand1x1[0][0]       \n",
      "                                                                 fire2/relu_expand3x3[0][0]       \n",
      "__________________________________________________________________________________________________\n",
      "fire3/squeeze1x1 (Conv2D)       (None, 15, 15, 16)   2064        fire2/concat[0][0]               \n",
      "__________________________________________________________________________________________________\n",
      "fire3/relu_squeeze1x1 (Activati (None, 15, 15, 16)   0           fire3/squeeze1x1[0][0]           \n",
      "__________________________________________________________________________________________________\n",
      "fire3/expand1x1 (Conv2D)        (None, 15, 15, 64)   1088        fire3/relu_squeeze1x1[0][0]      \n",
      "__________________________________________________________________________________________________\n",
      "fire3/expand3x3 (Conv2D)        (None, 15, 15, 64)   9280        fire3/relu_squeeze1x1[0][0]      \n",
      "__________________________________________________________________________________________________\n",
      "fire3/relu_expand1x1 (Activatio (None, 15, 15, 64)   0           fire3/expand1x1[0][0]            \n",
      "__________________________________________________________________________________________________\n",
      "fire3/relu_expand3x3 (Activatio (None, 15, 15, 64)   0           fire3/expand3x3[0][0]            \n",
      "__________________________________________________________________________________________________\n",
      "fire3/concat (Concatenate)      (None, 15, 15, 128)  0           fire3/relu_expand1x1[0][0]       \n",
      "                                                                 fire3/relu_expand3x3[0][0]       \n",
      "__________________________________________________________________________________________________\n",
      "pool3 (MaxPooling2D)            (None, 7, 7, 128)    0           fire3/concat[0][0]               \n",
      "__________________________________________________________________________________________________\n",
      "fire4/squeeze1x1 (Conv2D)       (None, 7, 7, 32)     4128        pool3[0][0]                      \n",
      "__________________________________________________________________________________________________\n",
      "fire4/relu_squeeze1x1 (Activati (None, 7, 7, 32)     0           fire4/squeeze1x1[0][0]           \n",
      "__________________________________________________________________________________________________\n",
      "fire4/expand1x1 (Conv2D)        (None, 7, 7, 128)    4224        fire4/relu_squeeze1x1[0][0]      \n",
      "__________________________________________________________________________________________________\n",
      "fire4/expand3x3 (Conv2D)        (None, 7, 7, 128)    36992       fire4/relu_squeeze1x1[0][0]      \n",
      "__________________________________________________________________________________________________\n",
      "fire4/relu_expand1x1 (Activatio (None, 7, 7, 128)    0           fire4/expand1x1[0][0]            \n",
      "__________________________________________________________________________________________________\n",
      "fire4/relu_expand3x3 (Activatio (None, 7, 7, 128)    0           fire4/expand3x3[0][0]            \n",
      "__________________________________________________________________________________________________\n",
      "fire4/concat (Concatenate)      (None, 7, 7, 256)    0           fire4/relu_expand1x1[0][0]       \n",
      "                                                                 fire4/relu_expand3x3[0][0]       \n",
      "__________________________________________________________________________________________________\n",
      "fire5/squeeze1x1 (Conv2D)       (None, 7, 7, 32)     8224        fire4/concat[0][0]               \n",
      "__________________________________________________________________________________________________\n",
      "fire5/relu_squeeze1x1 (Activati (None, 7, 7, 32)     0           fire5/squeeze1x1[0][0]           \n",
      "__________________________________________________________________________________________________\n",
      "fire5/expand1x1 (Conv2D)        (None, 7, 7, 128)    4224        fire5/relu_squeeze1x1[0][0]      \n",
      "__________________________________________________________________________________________________\n",
      "fire5/expand3x3 (Conv2D)        (None, 7, 7, 128)    36992       fire5/relu_squeeze1x1[0][0]      \n",
      "__________________________________________________________________________________________________\n",
      "fire5/relu_expand1x1 (Activatio (None, 7, 7, 128)    0           fire5/expand1x1[0][0]            \n",
      "__________________________________________________________________________________________________\n",
      "fire5/relu_expand3x3 (Activatio (None, 7, 7, 128)    0           fire5/expand3x3[0][0]            \n",
      "__________________________________________________________________________________________________\n",
      "fire5/concat (Concatenate)      (None, 7, 7, 256)    0           fire5/relu_expand1x1[0][0]       \n",
      "                                                                 fire5/relu_expand3x3[0][0]       \n",
      "__________________________________________________________________________________________________\n",
      "drop9 (Dropout)                 (None, 7, 7, 256)    0           fire5/concat[0][0]               \n",
      "__________________________________________________________________________________________________\n",
      "conv10 (Conv2D)                 (None, 7, 7, 10)     2570        drop9[0][0]                      \n",
      "__________________________________________________________________________________________________\n",
      "relu_conv10 (Activation)        (None, 7, 7, 10)     0           conv10[0][0]                     \n",
      "__________________________________________________________________________________________________\n",
      "global_average_pooling2d (Globa (None, 10)           0           relu_conv10[0][0]                \n",
      "__________________________________________________________________________________________________\n",
      "loss (Activation)               (None, 10)           0           global_average_pooling2d[0][0]   \n",
      "==================================================================================================\n",
      "Total params: 122,986\n",
      "Trainable params: 122,986\n",
      "Non-trainable params: 0\n",
      "__________________________________________________________________________________________________\n"
     ]
    }
   ],
   "source": [
    "# Model summary\n",
    "sn = SqueezeNet()\n",
    "sn.summary()"
   ]
  },
  {
   "cell_type": "code",
   "execution_count": 10,
   "metadata": {},
   "outputs": [],
   "source": [
    "# Compile model\n",
    "def compile_model(model):\n",
    "    \n",
    "    # loss\n",
    "    loss = losses.categorical_crossentropy\n",
    "    \n",
    "    # optimizer\n",
    "    optimizer = optimizers.RMSprop(lr=0.001)\n",
    "    \n",
    "    # metrics\n",
    "    metric = [metrics.categorical_accuracy, metrics.top_k_categorical_accuracy]\n",
    "    \n",
    "    # Compile model with loss, optimizer, and evaluation metrics\n",
    "    model.compile(optimizer, loss, metric)\n",
    "    \n",
    "    return model"
   ]
  },
  {
   "cell_type": "code",
   "execution_count": 11,
   "metadata": {},
   "outputs": [
    {
     "name": "stdout",
     "output_type": "stream",
     "text": [
      "Epoch 1/10\n",
      "400/400 [==============================] - 6s 14ms/step - loss: 2.2352 - categorical_accuracy: 0.1427 - top_k_categorical_accuracy: 0.7472 - val_loss: 2.1285 - val_categorical_accuracy: 0.1988 - val_top_k_categorical_accuracy: 0.7473\n",
      "Epoch 2/10\n",
      "400/400 [==============================] - 4s 9ms/step - loss: 1.9652 - categorical_accuracy: 0.2620 - top_k_categorical_accuracy: 0.8009 - val_loss: 2.1548 - val_categorical_accuracy: 0.2128 - val_top_k_categorical_accuracy: 0.7292\n",
      "Epoch 3/10\n",
      "400/400 [==============================] - 4s 9ms/step - loss: 1.8252 - categorical_accuracy: 0.3216 - top_k_categorical_accuracy: 0.8438 - val_loss: 1.6839 - val_categorical_accuracy: 0.3831 - val_top_k_categorical_accuracy: 0.8798\n",
      "Epoch 4/10\n",
      "400/400 [==============================] - 4s 9ms/step - loss: 1.7079 - categorical_accuracy: 0.3670 - top_k_categorical_accuracy: 0.8763 - val_loss: 1.5847 - val_categorical_accuracy: 0.4217 - val_top_k_categorical_accuracy: 0.8955\n",
      "Epoch 5/10\n",
      "400/400 [==============================] - 4s 9ms/step - loss: 1.6355 - categorical_accuracy: 0.3961 - top_k_categorical_accuracy: 0.8911 - val_loss: 1.5332 - val_categorical_accuracy: 0.4470 - val_top_k_categorical_accuracy: 0.9031\n",
      "Epoch 6/10\n",
      "400/400 [==============================] - 4s 9ms/step - loss: 1.5514 - categorical_accuracy: 0.4284 - top_k_categorical_accuracy: 0.9102 - val_loss: 1.4690 - val_categorical_accuracy: 0.4619 - val_top_k_categorical_accuracy: 0.9230\n",
      "Epoch 7/10\n",
      "400/400 [==============================] - 4s 9ms/step - loss: 1.5248 - categorical_accuracy: 0.4438 - top_k_categorical_accuracy: 0.9157 - val_loss: 1.4431 - val_categorical_accuracy: 0.4864 - val_top_k_categorical_accuracy: 0.9183\n",
      "Epoch 8/10\n",
      "400/400 [==============================] - 4s 9ms/step - loss: 1.4734 - categorical_accuracy: 0.4605 - top_k_categorical_accuracy: 0.9184 - val_loss: 1.3837 - val_categorical_accuracy: 0.4909 - val_top_k_categorical_accuracy: 0.9328\n",
      "Epoch 9/10\n",
      "400/400 [==============================] - 4s 9ms/step - loss: 1.4180 - categorical_accuracy: 0.4827 - top_k_categorical_accuracy: 0.9260 - val_loss: 1.4363 - val_categorical_accuracy: 0.4780 - val_top_k_categorical_accuracy: 0.9194\n",
      "Epoch 10/10\n",
      "400/400 [==============================] - 4s 9ms/step - loss: 1.3858 - categorical_accuracy: 0.4965 - top_k_categorical_accuracy: 0.9330 - val_loss: 1.3288 - val_categorical_accuracy: 0.5069 - val_top_k_categorical_accuracy: 0.9359\n"
     ]
    }
   ],
   "source": [
    "# train model on cifar10\n",
    "\n",
    "sn = compile_model(sn)\n",
    "\n",
    "history = sn.fit_generator(\n",
    "        train_generator,\n",
    "        steps_per_epoch= 400,\n",
    "        epochs = 10,\n",
    "        validation_data = test_generator,\n",
    "        validation_steps=200)"
   ]
  },
  {
   "cell_type": "code",
   "execution_count": 12,
   "metadata": {},
   "outputs": [
    {
     "data": {
      "image/png": "[encoded data removed]",
      "text/plain": [
       "<matplotlib.figure.Figure at 0x7fb60c4b40f0>"
      ]
     },
     "metadata": {},
     "output_type": "display_data"
    }
   ],
   "source": [
    "# Plot data\n",
    "def plot_accuracy_and_loss(history):\n",
    "    plt.figure(1, figsize= (15, 10))\n",
    "    \n",
    "    # plot train and test accuracy\n",
    "    plt.subplot(221)\n",
    "    plt.plot(history.history['categorical_accuracy'])\n",
    "    plt.plot(history.history['val_categorical_accuracy'])\n",
    "    plt.title('SqueezeNet accuracy')\n",
    "    plt.ylabel('accuracy')\n",
    "    plt.xlabel('epoch')\n",
    "    plt.legend(['train', 'test'], loc='upper left')\n",
    "\n",
    "    # plot train and test loss\n",
    "    plt.subplot(222)\n",
    "    plt.plot(history.history['loss'])\n",
    "    plt.plot(history.history['val_loss'])\n",
    "    plt.title('SqueezeNet loss')\n",
    "    plt.ylabel('loss')\n",
    "    plt.xlabel('epoch')\n",
    "    plt.legend(['train', 'test'], loc='upper right')\n",
    "    \n",
    "    plt.savefig(\"Squeeze Net.jpg\")\n",
    "    plt.show()\n",
    "\n",
    "plot_accuracy_and_loss(history)"
   ]
  },
  {
   "cell_type": "code",
   "execution_count": 13,
   "metadata": {},
   "outputs": [],
   "source": [
    "# save model architecture\n",
    "model_json = sn.to_json()\n",
    "open('squeeze_net_model.json', 'w').write(model_json)\n",
    "\n",
    "# save model's learned weights\n",
    "sn.save_weights('image_classifier_squeeze_net.h5', overwrite=True)"
   ]
  },
  {
   "cell_type": "code",
   "execution_count": null,
   "metadata": {},
   "outputs": [],
   "source": []
  }
 ],
 "metadata": {
  "kernelspec": {
   "display_name": "Python 3",
   "language": "python",
   "name": "python3"
  },
  "language_info": {
   "codemirror_mode": {
    "name": "ipython",
    "version": 3
   },
   "file_extension": ".py",
   "mimetype": "text/x-python",
   "name": "python",
   "nbconvert_exporter": "python",
   "pygments_lexer": "ipython3",
   "version": "3.6.2"
  }
 },
 "nbformat": 4,
 "nbformat_minor": 2
}
