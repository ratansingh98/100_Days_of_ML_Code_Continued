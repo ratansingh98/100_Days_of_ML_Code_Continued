{
 "cells": [
  {
   "cell_type": "code",
   "execution_count": 1,
   "metadata": {},
   "outputs": [],
   "source": [
    "# Import necessary libraries\n",
    "import tensorflow as tf\n",
    "import numpy as np\n",
    "import matplotlib\n",
    "import matplotlib.pyplot as plt\n",
    "import os"
   ]
  },
  {
   "cell_type": "code",
   "execution_count": 2,
   "metadata": {},
   "outputs": [],
   "source": [
    "models = tf.contrib.keras.models\n",
    "layers = tf.contrib.keras.layers\n",
    "initializers = tf.contrib.keras.initializers\n",
    "regularizers = tf.contrib.keras.regularizers\n",
    "losses = tf.contrib.keras.losses\n",
    "optimizers = tf.contrib.keras.optimizers \n",
    "metrics = tf.contrib.keras.metrics\n",
    "preprocessing_image = tf.contrib.keras.preprocessing.image"
   ]
  },
  {
   "cell_type": "code",
   "execution_count": 3,
   "metadata": {},
   "outputs": [],
   "source": [
    "def residual_block(input_tensor, filters, stage, reg=0.0, use_shortcuts=True):\n",
    "\n",
    "    bn_name = 'bn' + str(stage)\n",
    "    conv_name = 'conv' + str(stage)\n",
    "    relu_name = 'relu' + str(stage)\n",
    "    merge_name = 'merge' + str(stage)\n",
    "\n",
    "    # 1x1 conv\n",
    "    # batchnorm-relu-conv\n",
    "    # from input_filters to bottleneck_filters\n",
    "    if stage>1: # first activation is just after conv1\n",
    "        x = layers.BatchNormalization(name=bn_name+'a')(input_tensor)\n",
    "        x = layers.Activation('relu', name=relu_name+'a')(x)\n",
    "    else:\n",
    "        x = input_tensor\n",
    "\n",
    "    x = layers.Convolution2D(\n",
    "            filters[0], (1,1),\n",
    "            kernel_regularizer=regularizers.l2(reg),\n",
    "            use_bias=False,\n",
    "            name=conv_name+'a'\n",
    "        )(x)\n",
    "\n",
    "    # 3x3 conv\n",
    "    # batchnorm-relu-conv\n",
    "    # from bottleneck_filters to bottleneck_filters\n",
    "    x = layers.BatchNormalization(name=bn_name+'b')(x)\n",
    "    x = layers.Activation('relu', name=relu_name+'b')(x)\n",
    "    x = layers.Convolution2D(\n",
    "            filters[1], (3,3),\n",
    "            padding='same',\n",
    "            kernel_regularizer=regularizers.l2(reg),\n",
    "            use_bias = False,\n",
    "            name=conv_name+'b'\n",
    "        )(x)\n",
    "\n",
    "    # 1x1 conv\n",
    "    # batchnorm-relu-conv\n",
    "    # from bottleneck_filters  to input_filters\n",
    "    x = layers.BatchNormalization(name=bn_name+'c')(x)\n",
    "    x = layers.Activation('relu', name=relu_name+'c')(x)\n",
    "    x = layers.Convolution2D(\n",
    "            filters[2], (1,1),\n",
    "            kernel_regularizer=regularizers.l2(reg),\n",
    "            name=conv_name+'c'\n",
    "        )(x)\n",
    "\n",
    "    # merge output with input layer (residual connection)\n",
    "    if use_shortcuts:\n",
    "        x = layers.add([x, input_tensor], name=merge_name)\n",
    "\n",
    "    return x"
   ]
  },
  {
   "cell_type": "code",
   "execution_count": 4,
   "metadata": {},
   "outputs": [],
   "source": [
    "def ResNetPreAct(input_shape=(32,32,3), nb_classes=5, num_stages=5,\n",
    "                 use_final_conv=False, reg=0.0):\n",
    "\n",
    "\n",
    "    # Input\n",
    "    img_input = layers.Input(shape=input_shape)\n",
    "\n",
    "    #### Input stream ####\n",
    "    # conv-BN-relu-pool\n",
    "    x = layers.Convolution2D(\n",
    "            128, (3,3), strides=(2, 2),\n",
    "            padding='same',\n",
    "            kernel_regularizer=regularizers.l2(reg),\n",
    "            use_bias=False,\n",
    "            name='conv0'\n",
    "        )(img_input)\n",
    "    x = layers.BatchNormalization(name='bn0')(x)\n",
    "    x = layers.Activation('relu', name='relu0')(x)\n",
    "#     x = layers.MaxPooling2D((3, 3), strides=(2, 2), padding='same', name='pool0')(x)\n",
    "\n",
    "    #### Residual Blocks ####\n",
    "    # 1x1 conv: batchnorm-relu-conv\n",
    "    # FxF conv: batchnorm-relu-conv\n",
    "    # 1x1 conv: batchnorm-relu-conv\n",
    "    for stage in range(1,num_stages+1):\n",
    "        x = residual_block(x, [32,32,128], stage=stage, reg=reg)\n",
    "\n",
    "\n",
    "    #### Output stream ####\n",
    "    # BN-relu-(conv)-avgPool-softmax\n",
    "    x = layers.BatchNormalization(name='bnF')(x)\n",
    "    x = layers.Activation('relu', name='reluF')(x)\n",
    "\n",
    "    # Optional final conv layer\n",
    "    if use_final_conv:\n",
    "        x = layers.Convolution2D(\n",
    "                64, (3,3),\n",
    "                padding='same',\n",
    "                kernel_regularizer=regularizers.l2(reg),\n",
    "                name='convF'\n",
    "            )(x)\n",
    "    \n",
    "    pool_size = input_shape[0] / 2\n",
    "    x = layers.AveragePooling2D((pool_size,pool_size),name='avg_pool')(x)\n",
    "\n",
    "    x = layers.Flatten(name='flat')(x)\n",
    "    x = layers.Dense(nb_classes, activation='softmax', name='fc10')(x)\n",
    "\n",
    "    return models.Model(img_input, x, name='rnpa')"
   ]
  },
  {
   "cell_type": "code",
   "execution_count": 5,
   "metadata": {},
   "outputs": [
    {
     "name": "stdout",
     "output_type": "stream",
     "text": [
      "__________________________________________________________________________________________________\n",
      "Layer (type)                    Output Shape         Param #     Connected to                     \n",
      "==================================================================================================\n",
      "input_1 (InputLayer)            (None, 32, 32, 3)    0                                            \n",
      "__________________________________________________________________________________________________\n",
      "conv0 (Conv2D)                  (None, 16, 16, 128)  3456        input_1[0][0]                    \n",
      "__________________________________________________________________________________________________\n",
      "bn0 (BatchNormalization)        (None, 16, 16, 128)  512         conv0[0][0]                      \n",
      "__________________________________________________________________________________________________\n",
      "relu0 (Activation)              (None, 16, 16, 128)  0           bn0[0][0]                        \n",
      "__________________________________________________________________________________________________\n",
      "conv1a (Conv2D)                 (None, 16, 16, 32)   4096        relu0[0][0]                      \n",
      "__________________________________________________________________________________________________\n",
      "bn1b (BatchNormalization)       (None, 16, 16, 32)   128         conv1a[0][0]                     \n",
      "__________________________________________________________________________________________________\n",
      "relu1b (Activation)             (None, 16, 16, 32)   0           bn1b[0][0]                       \n",
      "__________________________________________________________________________________________________\n",
      "conv1b (Conv2D)                 (None, 16, 16, 32)   9216        relu1b[0][0]                     \n",
      "__________________________________________________________________________________________________\n",
      "bn1c (BatchNormalization)       (None, 16, 16, 32)   128         conv1b[0][0]                     \n",
      "__________________________________________________________________________________________________\n",
      "relu1c (Activation)             (None, 16, 16, 32)   0           bn1c[0][0]                       \n",
      "__________________________________________________________________________________________________\n",
      "conv1c (Conv2D)                 (None, 16, 16, 128)  4224        relu1c[0][0]                     \n",
      "__________________________________________________________________________________________________\n",
      "merge1 (Add)                    (None, 16, 16, 128)  0           conv1c[0][0]                     \n",
      "                                                                 relu0[0][0]                      \n",
      "__________________________________________________________________________________________________\n",
      "bn2a (BatchNormalization)       (None, 16, 16, 128)  512         merge1[0][0]                     \n",
      "__________________________________________________________________________________________________\n",
      "relu2a (Activation)             (None, 16, 16, 128)  0           bn2a[0][0]                       \n",
      "__________________________________________________________________________________________________\n",
      "conv2a (Conv2D)                 (None, 16, 16, 32)   4096        relu2a[0][0]                     \n",
      "__________________________________________________________________________________________________\n",
      "bn2b (BatchNormalization)       (None, 16, 16, 32)   128         conv2a[0][0]                     \n",
      "__________________________________________________________________________________________________\n",
      "relu2b (Activation)             (None, 16, 16, 32)   0           bn2b[0][0]                       \n",
      "__________________________________________________________________________________________________\n",
      "conv2b (Conv2D)                 (None, 16, 16, 32)   9216        relu2b[0][0]                     \n",
      "__________________________________________________________________________________________________\n",
      "bn2c (BatchNormalization)       (None, 16, 16, 32)   128         conv2b[0][0]                     \n",
      "__________________________________________________________________________________________________\n",
      "relu2c (Activation)             (None, 16, 16, 32)   0           bn2c[0][0]                       \n",
      "__________________________________________________________________________________________________\n",
      "conv2c (Conv2D)                 (None, 16, 16, 128)  4224        relu2c[0][0]                     \n",
      "__________________________________________________________________________________________________\n",
      "merge2 (Add)                    (None, 16, 16, 128)  0           conv2c[0][0]                     \n",
      "                                                                 merge1[0][0]                     \n",
      "__________________________________________________________________________________________________\n",
      "bn3a (BatchNormalization)       (None, 16, 16, 128)  512         merge2[0][0]                     \n",
      "__________________________________________________________________________________________________\n",
      "relu3a (Activation)             (None, 16, 16, 128)  0           bn3a[0][0]                       \n",
      "__________________________________________________________________________________________________\n",
      "conv3a (Conv2D)                 (None, 16, 16, 32)   4096        relu3a[0][0]                     \n",
      "__________________________________________________________________________________________________\n",
      "bn3b (BatchNormalization)       (None, 16, 16, 32)   128         conv3a[0][0]                     \n",
      "__________________________________________________________________________________________________\n",
      "relu3b (Activation)             (None, 16, 16, 32)   0           bn3b[0][0]                       \n",
      "__________________________________________________________________________________________________\n",
      "conv3b (Conv2D)                 (None, 16, 16, 32)   9216        relu3b[0][0]                     \n",
      "__________________________________________________________________________________________________\n",
      "bn3c (BatchNormalization)       (None, 16, 16, 32)   128         conv3b[0][0]                     \n",
      "__________________________________________________________________________________________________\n",
      "relu3c (Activation)             (None, 16, 16, 32)   0           bn3c[0][0]                       \n",
      "__________________________________________________________________________________________________\n",
      "conv3c (Conv2D)                 (None, 16, 16, 128)  4224        relu3c[0][0]                     \n",
      "__________________________________________________________________________________________________\n",
      "merge3 (Add)                    (None, 16, 16, 128)  0           conv3c[0][0]                     \n",
      "                                                                 merge2[0][0]                     \n",
      "__________________________________________________________________________________________________\n",
      "bn4a (BatchNormalization)       (None, 16, 16, 128)  512         merge3[0][0]                     \n",
      "__________________________________________________________________________________________________\n",
      "relu4a (Activation)             (None, 16, 16, 128)  0           bn4a[0][0]                       \n",
      "__________________________________________________________________________________________________\n",
      "conv4a (Conv2D)                 (None, 16, 16, 32)   4096        relu4a[0][0]                     \n",
      "__________________________________________________________________________________________________\n",
      "bn4b (BatchNormalization)       (None, 16, 16, 32)   128         conv4a[0][0]                     \n",
      "__________________________________________________________________________________________________\n",
      "relu4b (Activation)             (None, 16, 16, 32)   0           bn4b[0][0]                       \n",
      "__________________________________________________________________________________________________\n",
      "conv4b (Conv2D)                 (None, 16, 16, 32)   9216        relu4b[0][0]                     \n",
      "__________________________________________________________________________________________________\n",
      "bn4c (BatchNormalization)       (None, 16, 16, 32)   128         conv4b[0][0]                     \n",
      "__________________________________________________________________________________________________\n",
      "relu4c (Activation)             (None, 16, 16, 32)   0           bn4c[0][0]                       \n",
      "__________________________________________________________________________________________________\n",
      "conv4c (Conv2D)                 (None, 16, 16, 128)  4224        relu4c[0][0]                     \n",
      "__________________________________________________________________________________________________\n",
      "merge4 (Add)                    (None, 16, 16, 128)  0           conv4c[0][0]                     \n",
      "                                                                 merge3[0][0]                     \n",
      "__________________________________________________________________________________________________\n",
      "bn5a (BatchNormalization)       (None, 16, 16, 128)  512         merge4[0][0]                     \n",
      "__________________________________________________________________________________________________\n",
      "relu5a (Activation)             (None, 16, 16, 128)  0           bn5a[0][0]                       \n",
      "__________________________________________________________________________________________________\n",
      "conv5a (Conv2D)                 (None, 16, 16, 32)   4096        relu5a[0][0]                     \n",
      "__________________________________________________________________________________________________\n",
      "bn5b (BatchNormalization)       (None, 16, 16, 32)   128         conv5a[0][0]                     \n",
      "__________________________________________________________________________________________________\n",
      "relu5b (Activation)             (None, 16, 16, 32)   0           bn5b[0][0]                       \n",
      "__________________________________________________________________________________________________\n",
      "conv5b (Conv2D)                 (None, 16, 16, 32)   9216        relu5b[0][0]                     \n",
      "__________________________________________________________________________________________________\n",
      "bn5c (BatchNormalization)       (None, 16, 16, 32)   128         conv5b[0][0]                     \n",
      "__________________________________________________________________________________________________\n",
      "relu5c (Activation)             (None, 16, 16, 32)   0           bn5c[0][0]                       \n",
      "__________________________________________________________________________________________________\n",
      "conv5c (Conv2D)                 (None, 16, 16, 128)  4224        relu5c[0][0]                     \n",
      "__________________________________________________________________________________________________\n",
      "merge5 (Add)                    (None, 16, 16, 128)  0           conv5c[0][0]                     \n",
      "                                                                 merge4[0][0]                     \n",
      "__________________________________________________________________________________________________\n",
      "bnF (BatchNormalization)        (None, 16, 16, 128)  512         merge5[0][0]                     \n",
      "__________________________________________________________________________________________________\n",
      "reluF (Activation)              (None, 16, 16, 128)  0           bnF[0][0]                        \n",
      "__________________________________________________________________________________________________\n",
      "avg_pool (AveragePooling2D)     (None, 1, 1, 128)    0           reluF[0][0]                      \n",
      "__________________________________________________________________________________________________\n",
      "flat (Flatten)                  (None, 128)          0           avg_pool[0][0]                   \n",
      "__________________________________________________________________________________________________\n",
      "fc10 (Dense)                    (None, 5)            645         flat[0][0]                       \n",
      "==================================================================================================\n",
      "Total params: 96,133\n",
      "Trainable params: 93,957\n",
      "Non-trainable params: 2,176\n",
      "__________________________________________________________________________________________________\n"
     ]
    }
   ],
   "source": [
    "model = ResNetPreAct()\n",
    "model.summary()"
   ]
  },
  {
   "cell_type": "markdown",
   "metadata": {},
   "source": [
    "# Compile Model"
   ]
  },
  {
   "cell_type": "code",
   "execution_count": 6,
   "metadata": {},
   "outputs": [],
   "source": [
    "def compile_model(model):\n",
    "    \n",
    "    # loss\n",
    "    loss = losses.categorical_crossentropy\n",
    "    \n",
    "    # optimizer\n",
    "    optimizer = optimizers.Adam(lr=0.0001)\n",
    "    \n",
    "    # metrics\n",
    "    metric = [metrics.categorical_accuracy, metrics.top_k_categorical_accuracy]\n",
    "    \n",
    "    # compile model with loss, optimizer, and evaluation metrics\n",
    "    model.compile(optimizer, loss, metric)\n",
    "    \n",
    "    return model"
   ]
  },
  {
   "cell_type": "markdown",
   "metadata": {},
   "source": [
    "# Image Preprocessing And Augmentation"
   ]
  },
  {
   "cell_type": "code",
   "execution_count": 7,
   "metadata": {},
   "outputs": [],
   "source": [
    "train_datagen = preprocessing_image.ImageDataGenerator(\n",
    "    rescale=1./255,\n",
    "    shear_range=0.1,\n",
    "    zoom_range=0.1,\n",
    "    horizontal_flip=True)\n",
    "\n",
    "test_datagen = preprocessing_image.ImageDataGenerator(rescale=1./255)"
   ]
  },
  {
   "cell_type": "code",
   "execution_count": 8,
   "metadata": {},
   "outputs": [
    {
     "name": "stdout",
     "output_type": "stream",
     "text": [
      "Found 2939 images belonging to 5 classes.\n",
      "Found 731 images belonging to 5 classes.\n"
     ]
    }
   ],
   "source": [
    "BASE_DIR = \"\"\n",
    "\n",
    "train_generator = train_datagen.flow_from_directory(\n",
    "    os.path.join(BASE_DIR, \"flower_dataset/train\"),\n",
    "    target_size=(32, 32),\n",
    "    batch_size=32,\n",
    "    class_mode='categorical')\n",
    "\n",
    "validation_generator = test_datagen.flow_from_directory(\n",
    "    os.path.join(BASE_DIR, \"flower_dataset/validation\"),\n",
    "    target_size=(32, 32),\n",
    "    batch_size=32,\n",
    "    class_mode='categorical')"
   ]
  },
  {
   "cell_type": "code",
   "execution_count": 9,
   "metadata": {},
   "outputs": [],
   "source": [
    "model = ResNetPreAct(input_shape=(32, 32, 3), nb_classes=5, num_stages=5,\n",
    "                     use_final_conv=False, reg=0.005)\n",
    "\n",
    "model = compile_model(model)"
   ]
  },
  {
   "cell_type": "markdown",
   "metadata": {},
   "source": [
    "# Train Model on Flower Dataset"
   ]
  },
  {
   "cell_type": "code",
   "execution_count": 10,
   "metadata": {},
   "outputs": [
    {
     "name": "stdout",
     "output_type": "stream",
     "text": [
      "Epoch 1/10\n",
      "100/100 [==============================] - 14s 141ms/step - loss: 4.6876 - categorical_accuracy: 0.3832 - top_k_categorical_accuracy: 1.0000 - val_loss: 4.7598 - val_categorical_accuracy: 0.2531 - val_top_k_categorical_accuracy: 1.0000\n",
      "Epoch 2/10\n",
      "100/100 [==============================] - 8s 81ms/step - loss: 4.2735 - categorical_accuracy: 0.5322 - top_k_categorical_accuracy: 1.0000 - val_loss: 4.5790 - val_categorical_accuracy: 0.2531 - val_top_k_categorical_accuracy: 1.0000\n",
      "Epoch 3/10\n",
      "100/100 [==============================] - 8s 82ms/step - loss: 3.9847 - categorical_accuracy: 0.5672 - top_k_categorical_accuracy: 1.0000 - val_loss: 4.4562 - val_categorical_accuracy: 0.2531 - val_top_k_categorical_accuracy: 1.0000\n",
      "Epoch 4/10\n",
      "100/100 [==============================] - 8s 81ms/step - loss: 3.7248 - categorical_accuracy: 0.5970 - top_k_categorical_accuracy: 1.0000 - val_loss: 4.2316 - val_categorical_accuracy: 0.2672 - val_top_k_categorical_accuracy: 1.0000\n",
      "Epoch 5/10\n",
      "100/100 [==============================] - 8s 83ms/step - loss: 3.5202 - categorical_accuracy: 0.6111 - top_k_categorical_accuracy: 1.0000 - val_loss: 3.7149 - val_categorical_accuracy: 0.4328 - val_top_k_categorical_accuracy: 1.0000\n",
      "Epoch 6/10\n",
      "100/100 [==============================] - 8s 81ms/step - loss: 3.3123 - categorical_accuracy: 0.6368 - top_k_categorical_accuracy: 1.0000 - val_loss: 3.4195 - val_categorical_accuracy: 0.5250 - val_top_k_categorical_accuracy: 1.0000\n",
      "Epoch 7/10\n",
      "100/100 [==============================] - 8s 80ms/step - loss: 3.1643 - categorical_accuracy: 0.6366 - top_k_categorical_accuracy: 1.0000 - val_loss: 3.1323 - val_categorical_accuracy: 0.6578 - val_top_k_categorical_accuracy: 1.0000\n",
      "Epoch 8/10\n",
      "100/100 [==============================] - 8s 81ms/step - loss: 2.9883 - categorical_accuracy: 0.6685 - top_k_categorical_accuracy: 1.0000 - val_loss: 3.1383 - val_categorical_accuracy: 0.5906 - val_top_k_categorical_accuracy: 1.0000\n",
      "Epoch 9/10\n",
      "100/100 [==============================] - 8s 81ms/step - loss: 2.8688 - categorical_accuracy: 0.6721 - top_k_categorical_accuracy: 1.0000 - val_loss: 2.8637 - val_categorical_accuracy: 0.6594 - val_top_k_categorical_accuracy: 1.0000\n",
      "Epoch 10/10\n",
      "100/100 [==============================] - 8s 80ms/step - loss: 2.7582 - categorical_accuracy: 0.6740 - top_k_categorical_accuracy: 1.0000 - val_loss: 2.7601 - val_categorical_accuracy: 0.6625 - val_top_k_categorical_accuracy: 1.0000\n"
     ]
    }
   ],
   "source": [
    "history = model.fit_generator(\n",
    "    train_generator,\n",
    "    steps_per_epoch=100,\n",
    "    epochs=10,\n",
    "    validation_data=validation_generator,\n",
    "    validation_steps=20)"
   ]
  },
  {
   "cell_type": "markdown",
   "metadata": {},
   "source": [
    "# Plot Accuracy And Loss Over Time"
   ]
  },
  {
   "cell_type": "code",
   "execution_count": 11,
   "metadata": {},
   "outputs": [],
   "source": [
    "def plot_accuracy_and_loss(history):\n",
    "    plt.figure(1, figsize= (15, 10))\n",
    "    \n",
    "    # plot train and test accuracy\n",
    "    plt.subplot(221)\n",
    "    plt.plot(history.history['categorical_accuracy'])\n",
    "    plt.plot(history.history['val_categorical_accuracy'])\n",
    "    plt.title('ResNet accuracy')\n",
    "    plt.ylabel('accuracy')\n",
    "    plt.xlabel('epoch')\n",
    "    plt.legend(['train', 'test'], loc='upper left')\n",
    "\n",
    "    # plot train and test loss\n",
    "    plt.subplot(222)\n",
    "    plt.plot(history.history['loss'])\n",
    "    plt.plot(history.history['val_loss'])\n",
    "    plt.title('ResNet loss')\n",
    "    plt.ylabel('loss')\n",
    "    plt.xlabel('epoch')\n",
    "    plt.legend(['train', 'test'], loc='upper right')\n",
    "    plt.savefig(\"ResNet.jpg\")\n",
    "    plt.show()"
   ]
  },
  {
   "cell_type": "code",
   "execution_count": 12,
   "metadata": {},
   "outputs": [
    {
     "data": {
      "image/png": "[encoded data removed]",
      "text/plain": [
       "<matplotlib.figure.Figure at 0x7f3cfd8e3780>"
      ]
     },
     "metadata": {},
     "output_type": "display_data"
    }
   ],
   "source": [
    "plot_accuracy_and_loss(history)"
   ]
  },
  {
   "cell_type": "markdown",
   "metadata": {},
   "source": [
    "# Save Model Weights And Configuration\n"
   ]
  },
  {
   "cell_type": "code",
   "execution_count": 13,
   "metadata": {},
   "outputs": [],
   "source": [
    "# save model architecture\n",
    "model_json = model.to_json()\n",
    "open('resnet_model.json', 'w').write(model_json)\n",
    "\n",
    "# save model's learned weights\n",
    "model.save_weights('image_classifier_resnet.h5', overwrite=True)"
   ]
  },
  {
   "cell_type": "code",
   "execution_count": null,
   "metadata": {},
   "outputs": [],
   "source": []
  }
 ],
 "metadata": {
  "kernelspec": {
   "display_name": "Python 3",
   "language": "python",
   "name": "python3"
  },
  "language_info": {
   "codemirror_mode": {
    "name": "ipython",
    "version": 3
   },
   "file_extension": ".py",
   "mimetype": "text/x-python",
   "name": "python",
   "nbconvert_exporter": "python",
   "pygments_lexer": "ipython3",
   "version": "3.6.2"
  }
 },
 "nbformat": 4,
 "nbformat_minor": 2
}
