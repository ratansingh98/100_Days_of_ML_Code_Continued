{
 "cells": [
  {
   "cell_type": "code",
   "execution_count": 1,
   "metadata": {},
   "outputs": [],
   "source": [
    "# Import necessary libraries\n",
    "from PIL import Image"
   ]
  },
  {
   "cell_type": "markdown",
   "metadata": {},
   "source": [
    "## Basics"
   ]
  },
  {
   "cell_type": "code",
   "execution_count": 2,
   "metadata": {},
   "outputs": [],
   "source": [
    "# Load image\n",
    "img = Image.open(\"images/image.png\")\n",
    "# Display image\n",
    "img.show()\n",
    "# To save image\n",
    "img.save(\"Saved_images/temp.png\")"
   ]
  },
  {
   "cell_type": "markdown",
   "metadata": {},
   "source": [
    "## Cropping"
   ]
  },
  {
   "cell_type": "code",
   "execution_count": 3,
   "metadata": {},
   "outputs": [],
   "source": [
    "# ROI - Region of Interest, to crop particular part of image\n",
    "dim = (100,100,400,400)\n",
    "crop_img =  img.crop(dim)\n",
    "crop_img.show()\n",
    "crop_img.save(\"Saved_images/croped.png\")"
   ]
  },
  {
   "cell_type": "markdown",
   "metadata": {},
   "source": [
    "## Gray Scale value"
   ]
  },
  {
   "cell_type": "code",
   "execution_count": 4,
   "metadata": {},
   "outputs": [
    {
     "name": "stdout",
     "output_type": "stream",
     "text": [
      "(187, 178, 173)\n",
      "180\n"
     ]
    }
   ],
   "source": [
    "# Load image\n",
    "img = Image.open(\"images/image.jpg\")\n",
    "\n",
    "# Returns pixel value\n",
    "print(img.getpixel((100,100)))\n",
    "\n",
    "# Pixel value of grey scale image\n",
    "print(img.convert(\"L\").getpixel((100,100)))\n",
    "\n",
    "# Convert to gray scale\n",
    "grayscale = img.convert(\"L\")\n",
    "\n",
    "# Compare image\n",
    "img.show()\n",
    "grayscale.show()\n",
    "\n",
    "# Save gray scale image\n",
    "grayscale.save(\"Saved_images/Gray Scale.png\")"
   ]
  },
  {
   "cell_type": "markdown",
   "metadata": {},
   "source": [
    "## Geometrical Transformation"
   ]
  },
  {
   "cell_type": "code",
   "execution_count": 5,
   "metadata": {},
   "outputs": [],
   "source": [
    "# Resize image\n",
    "resize_img = img.resize((200,200))\n",
    "resize_img.show()\n",
    "\n",
    "# Save Resize image\n",
    "resize_img.save(\"Saved_images/Resize.png\")"
   ]
  },
  {
   "cell_type": "code",
   "execution_count": 6,
   "metadata": {},
   "outputs": [],
   "source": [
    "# Rotate Image\n",
    "rotate_img = img.rotate(90)\n",
    "rotate_img.show()\n",
    "\n",
    "# Save Rotate image\n",
    "rotate_img.save(\"Saved_images/Rotate.png\")"
   ]
  },
  {
   "cell_type": "markdown",
   "metadata": {},
   "source": [
    "## Image Enhancement"
   ]
  },
  {
   "cell_type": "code",
   "execution_count": 7,
   "metadata": {},
   "outputs": [],
   "source": [
    "# Import image Enhance libaray\n",
    "from PIL import ImageEnhance"
   ]
  },
  {
   "cell_type": "code",
   "execution_count": 8,
   "metadata": {},
   "outputs": [],
   "source": [
    "# For bightness\n",
    "enhancer = ImageEnhance.Brightness(img)\n",
    "# factor > 1 will increase the Brightness\n",
    "# factor < 1 will decrease the Brightness\n",
    "# factor = 1 will not affect the Brightness\n",
    "bightness_img = enhancer.enhance(2)\n",
    "\n",
    "bightness_img.show()\n",
    "# Save Brightness image\n",
    "bightness_img.save(\"Saved_images/Brightness.png\")"
   ]
  },
  {
   "cell_type": "code",
   "execution_count": 9,
   "metadata": {},
   "outputs": [],
   "source": [
    "# For Contrast\n",
    "enhancer1 = ImageEnhance.Contrast(img)\n",
    "\n",
    "# factor > 1 will increase the contast\n",
    "# factor < 1 will decrease the contast\n",
    "# factor = 1 will not affect the contast\n",
    "Contrast_img = enhancer1.enhance(2)\n",
    "Contrast_img.show()\n",
    "# Save Contrast image\n",
    "Contrast_img.save(\"Saved_images/Contrast.png\")"
   ]
  },
  {
   "cell_type": "markdown",
   "metadata": {},
   "source": [
    "## Changing the Pixel values of image"
   ]
  },
  {
   "cell_type": "code",
   "execution_count": 10,
   "metadata": {},
   "outputs": [
    {
     "name": "stdout",
     "output_type": "stream",
     "text": [
      "(187, 178, 173)\n",
      "(20, 230, 145)\n"
     ]
    }
   ],
   "source": [
    "# Obtain the pixel\n",
    "print(img.getpixel((100,100)))\n",
    "\n",
    "# Change values of pixel coordinate\n",
    "img.putpixel((100,100),(20,230,145))\n",
    "\n",
    "print(img.getpixel((100,100)))"
   ]
  },
  {
   "cell_type": "code",
   "execution_count": null,
   "metadata": {},
   "outputs": [],
   "source": []
  }
 ],
 "metadata": {
  "kernelspec": {
   "display_name": "Python 3",
   "language": "python",
   "name": "python3"
  },
  "language_info": {
   "codemirror_mode": {
    "name": "ipython",
    "version": 3
   },
   "file_extension": ".py",
   "mimetype": "text/x-python",
   "name": "python",
   "nbconvert_exporter": "python",
   "pygments_lexer": "ipython3",
   "version": "3.6.2"
  }
 },
 "nbformat": 4,
 "nbformat_minor": 2
}
