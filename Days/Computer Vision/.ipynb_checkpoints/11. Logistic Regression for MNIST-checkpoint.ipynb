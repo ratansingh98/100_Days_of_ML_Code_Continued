{
 "cells": [
  {
   "cell_type": "code",
   "execution_count": 1,
   "metadata": {},
   "outputs": [],
   "source": [
    "# Import necessary libraries\n",
    "from sklearn import datasets, metrics\n",
    "from sklearn.linear_model import LogisticRegression\n",
    "from sklearn.preprocessing import StandardScaler\n",
    "from skimage import io, color, feature, transform"
   ]
  },
  {
   "cell_type": "code",
   "execution_count": null,
   "metadata": {},
   "outputs": [],
   "source": [
    "# Load Mnist dataset\n",
    "mnist = datasets.fetch_mldata('MNIST Original')\n",
    "# Create list for relevant data column\n",
    "img_tuple = list(zip(mnist.data, mnist.target))\n",
    "\n",
    "# Store mnist data\n",
    "images = mnist.data\n",
    "\n",
    "# Size of data\n",
    "data_size = len(images)\n",
    "data_size"
   ]
  },
  {
   "cell_type": "code",
   "execution_count": null,
   "metadata": {},
   "outputs": [],
   "source": [
    "#Preprocessing images\n",
    "images = images.reshape(len(images), -1)\n",
    "labels = mnist.target"
   ]
  },
  {
   "cell_type": "code",
   "execution_count": null,
   "metadata": {},
   "outputs": [],
   "source": [
    "#Initialize Logistic Regression\n",
    "LR_classifier = LogisticRegression(C=50., penalty='l2', multi_class='multinomial', solver='sag', tol=0.01)\n",
    "#Training the data on only 75% of the dataset. Rest of the 25% will be used in testing the Logistic Regression\n",
    "#LR_classifier.fit(images[:int((data_size / 4) * 3)], labels[:int((data_size / 4) * 3)])\n",
    "LR_classifier.fit(images, labels)"
   ]
  },
  {
   "cell_type": "code",
   "execution_count": null,
   "metadata": {},
   "outputs": [],
   "source": [
    "#Load a custom image \n",
    "digit_img = io.imread('digit.png')\n",
    "#Convert image to grayscale\n",
    "digit_img = color.rgb2gray(digit_img)"
   ]
  },
  {
   "cell_type": "code",
   "execution_count": null,
   "metadata": {},
   "outputs": [],
   "source": [
    "#Resize the image to 28x28\n",
    "digit_img = transform.resize(digit_img, (28, 28), mode=\"wrap\")"
   ]
  },
  {
   "cell_type": "code",
   "execution_count": null,
   "metadata": {},
   "outputs": [],
   "source": [
    "#Run edge detection on the image \n",
    "digit_edge = feature.canny(digit_img, sigma=5) \n",
    "\n",
    "io.imshow(digit_edge)\n",
    "io.show()\n",
    "\n",
    "digit_edge = digit_edge.flatten()"
   ]
  },
  {
   "cell_type": "code",
   "execution_count": null,
   "metadata": {},
   "outputs": [],
   "source": [
    "#Testing the data\n",
    "predictions = LR_classifier.predict(digit_img.flatten())\n",
    "\n",
    "print(predictions)"
   ]
  },
  {
   "cell_type": "code",
   "execution_count": null,
   "metadata": {},
   "outputs": [],
   "source": []
  }
 ],
 "metadata": {
  "kernelspec": {
   "display_name": "Python 3",
   "language": "python",
   "name": "python3"
  },
  "language_info": {
   "codemirror_mode": {
    "name": "ipython",
    "version": 3
   },
   "file_extension": ".py",
   "mimetype": "text/x-python",
   "name": "python",
   "nbconvert_exporter": "python",
   "pygments_lexer": "ipython3",
   "version": "3.6.2"
  }
 },
 "nbformat": 4,
 "nbformat_minor": 2
}
