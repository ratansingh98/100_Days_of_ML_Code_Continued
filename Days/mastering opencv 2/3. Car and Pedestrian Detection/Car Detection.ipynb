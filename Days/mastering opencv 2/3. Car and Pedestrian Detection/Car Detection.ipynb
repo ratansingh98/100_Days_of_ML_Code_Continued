{
 "cells": [
  {
   "cell_type": "code",
   "execution_count": 1,
   "metadata": {},
   "outputs": [],
   "source": [
    "# OpenCV Python program to detect cars in video frame \n",
    "# import libraries of python OpenCV  \n",
    "import cv2 \n",
    "  \n",
    "# capture frames from a video \n",
    "cap = cv2.VideoCapture('cars.mp4') \n",
    "  \n",
    "# Trained XML classifiers describes some features of some object we want to detect \n",
    "car_cascade = cv2.CascadeClassifier('cars.xml') \n",
    "  \n",
    "# loop runs if capturing has been initialized. \n",
    "while True: \n",
    "    # reads frames from a video \n",
    "    ret, frames = cap.read() \n",
    "      \n",
    "    # convert to gray scale of each frames \n",
    "    gray = cv2.cvtColor(frames, cv2.COLOR_BGR2GRAY) \n",
    "      \n",
    "  \n",
    "    # Detects cars of different sizes in the input image \n",
    "    cars = car_cascade.detectMultiScale(gray, 1.1, 1) \n",
    "      \n",
    "    # To draw a rectangle in each cars \n",
    "    for (x,y,w,h) in cars: \n",
    "        cv2.rectangle(frames,(x,y),(x+w,y+h),(0,0,255),2) \n",
    "  \n",
    "   # Display frames in a window  \n",
    "    cv2.imshow('Car Detection', frames) \n",
    "      \n",
    "    # Wait for Enter key to stop \n",
    "    if cv2.waitKey(33) == 13: \n",
    "        break\n",
    "        \n",
    "cv2.destroyAllWindows()"
   ]
  },
  {
   "cell_type": "code",
   "execution_count": null,
   "metadata": {},
   "outputs": [],
   "source": []
  }
 ],
 "metadata": {
  "kernelspec": {
   "display_name": "Python 3",
   "language": "python",
   "name": "python3"
  },
  "language_info": {
   "codemirror_mode": {
    "name": "ipython",
    "version": 3
   },
   "file_extension": ".py",
   "mimetype": "text/x-python",
   "name": "python",
   "nbconvert_exporter": "python",
   "pygments_lexer": "ipython3",
   "version": "3.6.3"
  }
 },
 "nbformat": 4,
 "nbformat_minor": 2
}
